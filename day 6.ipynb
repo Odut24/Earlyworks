{
 "cells": [
  {
   "cell_type": "code",
   "execution_count": 1,
   "id": "9a0881ba",
   "metadata": {},
   "outputs": [
    {
     "name": "stdout",
     "output_type": "stream",
     "text": [
      "The best villian\n",
      "None\n"
     ]
    }
   ],
   "source": [
    "##function\n",
    "##set of program written for a specific purpose\n",
    "def joker():\n",
    "    print('The best villian')\n",
    "print(joker())\n",
    "    "
   ]
  },
  {
   "cell_type": "code",
   "execution_count": 2,
   "id": "25352118",
   "metadata": {},
   "outputs": [
    {
     "name": "stdout",
     "output_type": "stream",
     "text": [
      "The best villian\n"
     ]
    }
   ],
   "source": [
    "joker()"
   ]
  },
  {
   "cell_type": "code",
   "execution_count": 6,
   "id": "52e057cd",
   "metadata": {},
   "outputs": [
    {
     "name": "stdout",
     "output_type": "stream",
     "text": [
      "you are not eligible\n"
     ]
    }
   ],
   "source": [
    "##parameter and argument\n",
    "##parameter is a variable used in function or method,its a place holder for the actual value called the argumment\n",
    "##function with parameter\n",
    "\n",
    "##name/gemder/age is a parameter\n",
    "def votecheck(name,gender,age):\n",
    "    if age >= 18:\n",
    "        print('congratulations you are eligible to vote')\n",
    "    else:\n",
    "        print('you are not eligible')\n",
    "votecheck('sam','male',15)"
   ]
  },
  {
   "cell_type": "code",
   "execution_count": 7,
   "id": "a45832d1",
   "metadata": {},
   "outputs": [
    {
     "name": "stdout",
     "output_type": "stream",
     "text": [
      "CHECKOUT OUR RUGBY PROGRAM\n"
     ]
    }
   ],
   "source": [
    "##check if a user is eligible for a rugby sport or football sport\n",
    "\n",
    "def sports(name,gender,weight):\n",
    "    if weight >= 175:\n",
    "        print('CHECKOUT OUR RUGBY PROGRAM')\n",
    "    else:\n",
    "        print('CHECKOUT OUR FOOTBALL PROGRAM')\n",
    "sports('Ope','Male',225)"
   ]
  },
  {
   "cell_type": "code",
   "execution_count": 8,
   "id": "e8e6ae79",
   "metadata": {},
   "outputs": [
    {
     "name": "stdout",
     "output_type": "stream",
     "text": [
      "CHECKOUT OUR FOOTBALL PROGRAM\n"
     ]
    }
   ],
   "source": [
    "sports('tofunmi','female',160)"
   ]
  },
  {
   "cell_type": "code",
   "execution_count": 10,
   "id": "3e934496",
   "metadata": {},
   "outputs": [
    {
     "name": "stdout",
     "output_type": "stream",
     "text": [
      "congratulations you are eligible to vote\n"
     ]
    }
   ],
   "source": [
    "##function with a default parameter\n",
    "def votecheck(name,gender,age=18):\n",
    "    if age >= 18:\n",
    "        print('congratulations you are eligible to vote')\n",
    "    else:\n",
    "        print('you are not eligible')\n",
    "votecheck('sam','male')"
   ]
  },
  {
   "cell_type": "code",
   "execution_count": 11,
   "id": "616cb19e",
   "metadata": {},
   "outputs": [
    {
     "name": "stdout",
     "output_type": "stream",
     "text": [
      "you are not eligible\n"
     ]
    }
   ],
   "source": [
    "def votecheck(name,gender,age=18):\n",
    "    if age >= 18:\n",
    "        print('congratulations you are eligible to vote')\n",
    "    else:\n",
    "        print('you are not eligible')\n",
    "votecheck('sam','male',16)"
   ]
  },
  {
   "cell_type": "code",
   "execution_count": 14,
   "id": "e9732b96",
   "metadata": {},
   "outputs": [
    {
     "name": "stdout",
     "output_type": "stream",
     "text": [
      "PLAYER ONE DICE OUTCOME: 8\n",
      "PLAYER TWO DICE OUTCOME: 9\n",
      "PLAYER TWO WINS.....\n",
      "PLAYER ONE DICE OUTCOME: 8\n",
      "PLAYER TWO DICE OUTCOME: 9\n",
      "PLAYER TWO WINS.....\n",
      "PLAYER ONE DICE OUTCOME: 6\n",
      "PLAYER TWO DICE OUTCOME: 5\n",
      "PLAYER ONE WINS.....\n",
      "PLAYER ONE DICE OUTCOME: 8\n",
      "PLAYER TWO DICE OUTCOME: 11\n",
      "PLAYER TWO WINS.....\n",
      "PLAYER ONE DICE OUTCOME: 4\n",
      "PLAYER TWO DICE OUTCOME: 5\n",
      "PLAYER TWO WINS.....\n",
      "PLAYER ONE DICE OUTCOME: 5\n",
      "PLAYER TWO DICE OUTCOME: 6\n",
      "PLAYER TWO WINS.....\n",
      "PLAYER ONE DICE OUTCOME: 8\n",
      "PLAYER TWO DICE OUTCOME: 7\n",
      "PLAYER ONE WINS.....\n",
      "PLAYER ONE DICE OUTCOME: 8\n",
      "PLAYER TWO DICE OUTCOME: 12\n",
      "PLAYER TWO WINS.....\n",
      "PLAYER ONE DICE OUTCOME: 8\n",
      "PLAYER TWO DICE OUTCOME: 9\n",
      "PLAYER TWO WINS.....\n",
      "PLAYER ONE DICE OUTCOME: 7\n",
      "PLAYER TWO DICE OUTCOME: 4\n",
      "PLAYER ONE WINS.....\n",
      "PLAYER TWO IS THE OVERALL WINNER WITH: 35 POINTS\n"
     ]
    }
   ],
   "source": [
    "##loop assignment using while\n",
    "def rolldicegame():\n",
    "    import random\n",
    "    playeronescore= 0\n",
    "    playertwoscore= 0\n",
    "    counter = 1\n",
    "    while counter <= 10:\n",
    "        dice1 = random.randint(1,6) + random.randint(1,6)\n",
    "        dice2 = random.randint(1,6) + random.randint(1,6)\n",
    "        if dice1 > dice2:\n",
    "            print('PLAYER ONE DICE OUTCOME:', dice1)\n",
    "            print('PLAYER TWO DICE OUTCOME:', dice2)\n",
    "            print('PLAYER ONE WINS.....')\n",
    "            playeronescore +=5\n",
    "        elif dice2 > dice1:\n",
    "            print('PLAYER ONE DICE OUTCOME:', dice1)\n",
    "            print('PLAYER TWO DICE OUTCOME:', dice2)\n",
    "            print('PLAYER TWO WINS.....')\n",
    "            playertwoscore +=5\n",
    "        else:\n",
    "            print('PLAYER ONE DICE OUTCOME:', dice1)\n",
    "            print('PLAYER TWO DICE OUTCOME:', dice2)\n",
    "            print('DRAW......')\n",
    "            playertwoscore += 1\n",
    "            playeronescore += 1\n",
    "        counter += 1\n",
    "    if playeronescore > playertwoscore:\n",
    "        print(f'PLAYER ONE IS THE OVERALL WINNER WITH: {playeronescore} POINTS')\n",
    "    elif playertwoscore > playeronescore:\n",
    "        print(f'PLAYER TWO IS THE OVERALL WINNER WITH: {playertwoscore} POINTS')\n",
    "    else:\n",
    "        print('NO WINNER, IT IS A DRAW')\n",
    "rolldicegame()"
   ]
  },
  {
   "cell_type": "code",
   "execution_count": 27,
   "id": "2cca08e7",
   "metadata": {},
   "outputs": [
    {
     "name": "stdout",
     "output_type": "stream",
     "text": [
      "\n",
      "MENU\n",
      "Pizza: $15.00\n",
      "Sandwich: $7.50\n",
      "Salad: $4.99\n",
      "Fries: $3.99\n",
      "Burger: $8.00\n",
      "Enter the food item you want to order (or done to finish)pizza\n",
      "HOW MANY pizzas DO YOU EANT OT ORDER?3\n",
      "\n",
      "MENU\n",
      "Pizza: $15.00\n",
      "Sandwich: $7.50\n",
      "Salad: $4.99\n",
      "Fries: $3.99\n",
      "Burger: $8.00\n",
      "Enter the food item you want to order (or done to finish)fries\n",
      "HOW MANY friess DO YOU EANT OT ORDER?5\n",
      "\n",
      "MENU\n",
      "Pizza: $15.00\n",
      "Sandwich: $7.50\n",
      "Salad: $4.99\n",
      "Fries: $3.99\n",
      "Burger: $8.00\n",
      "Enter the food item you want to order (or done to finish)done\n",
      "\n",
      "RECEIPT\n",
      "Pizza:3 x $8.00 = $45.0\n",
      "Fries:5 x $8.00 = $19.950000000000003\n",
      "Total Price is  64.95\n"
     ]
    }
   ],
   "source": [
    "##write a python function that allows a user to continously order food items until they choose to stop\n",
    "## it will then calculate the total price and print the receipt\n",
    "\n",
    "def orderfood():\n",
    "    menu = {\n",
    "            'pizza':15.0,\n",
    "            'sandwich':7.5,\n",
    "            'salad':4.99,\n",
    "            'fries':3.99,\n",
    "            'burger':8.00\n",
    "        }\n",
    "    order = {}\n",
    "    totalprice = 0.0\n",
    "    while True:\n",
    "        print('\\nMENU')\n",
    "        for item,price in menu.items():\n",
    "            print(f'{item.capitalize()}: ${price:.2f}')\n",
    "        user_choice = input('Enter the food item you want to order (or done to finish)').lower()\n",
    "\n",
    "        if user_choice == 'done':\n",
    "            break\n",
    "        if user_choice in menu:\n",
    "            quantity = int(input(f'HOW MANY {user_choice}s DO YOU EANT OT ORDER?'))\n",
    "            order[user_choice] = quantity\n",
    "            totalprice += menu[user_choice] * quantity\n",
    "        else:\n",
    "            print('INVALID CHOICE, CHOOSE FROM THE MENU')\n",
    "    print('\\nRECEIPT')\n",
    "    for item, quantity in order.items():\n",
    "        print(f'{item.capitalize()}:{quantity} x ${price:.2f} = ${menu[item] * quantity}')\n",
    "    print('Total Price is ', totalprice)\n",
    "orderfood()"
   ]
  },
  {
   "cell_type": "code",
   "execution_count": null,
   "id": "5aec23c2",
   "metadata": {},
   "outputs": [],
   "source": []
  }
 ],
 "metadata": {
  "kernelspec": {
   "display_name": "Python 3 (ipykernel)",
   "language": "python",
   "name": "python3"
  },
  "language_info": {
   "codemirror_mode": {
    "name": "ipython",
    "version": 3
   },
   "file_extension": ".py",
   "mimetype": "text/x-python",
   "name": "python",
   "nbconvert_exporter": "python",
   "pygments_lexer": "ipython3",
   "version": "3.11.5"
  }
 },
 "nbformat": 4,
 "nbformat_minor": 5
}
