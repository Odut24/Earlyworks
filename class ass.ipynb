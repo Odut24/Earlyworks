{
 "cells": [
  {
   "cell_type": "code",
   "execution_count": 1,
   "id": "d64bceaa",
   "metadata": {},
   "outputs": [],
   "source": [
    "##write a simulation program for a car that has the following attributes\n",
    "##(brand,model,year,color and speed) and the following methods (start,chagegear,accelerate and stop).\n",
    "##create another class with any method of your choice but it should inherit all attribute and method in the first class."
   ]
  },
  {
   "cell_type": "code",
   "execution_count": 5,
   "id": "2ed3f2fd",
   "metadata": {},
   "outputs": [],
   "source": [
    "class carsimulation1:\n",
    "    def __init__(self, brand, model, year, color, speed):\n",
    "        self.brand = brand\n",
    "        self.model = model\n",
    "        self.year = year \n",
    "        self.color = color\n",
    "        self.speed = speed\n",
    "        \n",
    "    def start(self):\n",
    "        option = input('Enter Yes To Start:')\n",
    "        if option == 'yes':\n",
    "            print('START BUTTON ACTIVATED')\n",
    "        elif option == 'no':\n",
    "            print('START BUTTON DEACTIVATED')\n",
    "    \n",
    "    def changegear(self):\n",
    "        print('GEAR OPTIONS ARE BETWEEN 1 AND 4')\n",
    "        option = int(input('Enter gear number To change gear:'))\n",
    "        if option == 1:\n",
    "            print('Gear 1 ACTIVATED')\n",
    "        elif option == 2:\n",
    "            print('Gear 2 ACTIVATED')\n",
    "        elif option == 3:\n",
    "            print('Gear 3 ACTIVATED')\n",
    "        elif option == 4:\n",
    "            print('Gear 4 ACTIVATED')\n",
    "        else:\n",
    "            print('GEAR OPTIONS ARE BETWEEN 1 AND 4')\n",
    "            \n",
    "    def accelerate(self):\n",
    "        option = input('Enter Yes To accelerate:')\n",
    "        if option == 'yes':\n",
    "            print('ACCLERATION ACTIVATED')\n",
    "        elif option == 'no':\n",
    "            print('ACCELERATION DEACTIVATED')\n",
    "            \n",
    "    def stop(self):\n",
    "        option = input('Enter Yes To Stop:')\n",
    "        if option == 'yes':\n",
    "            print('STOP BUTTON ACTIVATED')\n",
    "        elif option == 'no':\n",
    "            print('STOP BUTTON DEACTIVATED')\n",
    "            \n",
    "testcar1 = carsimulation1('BUGATTI','CHIRON','2023','GOLD',260)\n",
    "\n",
    "            "
   ]
  },
  {
   "cell_type": "code",
   "execution_count": 8,
   "id": "55bdb1fb",
   "metadata": {},
   "outputs": [
    {
     "name": "stdout",
     "output_type": "stream",
     "text": [
      "GEAR OPTIONS ARE BETWEEN 1 AND 4\n",
      "Enter gear number To change gear:3\n",
      "Gear 3 ACTIVATED\n"
     ]
    }
   ],
   "source": [
    "testcar1.changegear()"
   ]
  },
  {
   "cell_type": "code",
   "execution_count": 9,
   "id": "857c61e5",
   "metadata": {},
   "outputs": [],
   "source": [
    "class carsimulation2(carsimulation1):\n",
    "    def autonavigation(self):\n",
    "        option = input('Enter Yes to Auto-navigate: ')\n",
    "        if option == 'yes':\n",
    "            print('AUTO NAVIGATION ACTIVATED')\n",
    "        elif option == 'no':\n",
    "            print('AUTO NAVIGATION DEACTIVATED')\n",
    "            \n",
    "    def airconditioning(self):\n",
    "        option = input('Enter Yes to Activate Air Conditioner: ')\n",
    "        if option == 'yes':\n",
    "            print('AIR CONDITIONER ACTIVATED')\n",
    "        elif option == 'no':\n",
    "            print('AIR CONDITIONER DEACTIVATED')\n",
    "            \n",
    "    def autolock(self):\n",
    "        option = input('Enter Yes to Lock')\n",
    "        if option == 'yes':\n",
    "            print('AUTO LOCK ACTIVATED')\n",
    "        elif option == 'no':\n",
    "            print('AUTO LOCK DEACTIVATED')\n",
    "\n",
    "testcar2 = carsimulation2('BUGATTI','VEYRON','2023','GOLD',265)\n",
    "        "
   ]
  },
  {
   "cell_type": "code",
   "execution_count": 10,
   "id": "ac2e0028",
   "metadata": {},
   "outputs": [
    {
     "name": "stdout",
     "output_type": "stream",
     "text": [
      "Enter Yes to Lockyes\n",
      "AUTO LOCK ACTIVATED\n"
     ]
    }
   ],
   "source": [
    "testcar2.autolock()"
   ]
  },
  {
   "cell_type": "code",
   "execution_count": 11,
   "id": "30f80170",
   "metadata": {},
   "outputs": [
    {
     "name": "stdout",
     "output_type": "stream",
     "text": [
      "Enter Yes To accelerate:no\n",
      "ACCELERATION DEACTIVATED\n"
     ]
    }
   ],
   "source": [
    "testcar2.accelerate()"
   ]
  },
  {
   "cell_type": "code",
   "execution_count": null,
   "id": "dd882916",
   "metadata": {},
   "outputs": [],
   "source": []
  }
 ],
 "metadata": {
  "kernelspec": {
   "display_name": "Python 3 (ipykernel)",
   "language": "python",
   "name": "python3"
  },
  "language_info": {
   "codemirror_mode": {
    "name": "ipython",
    "version": 3
   },
   "file_extension": ".py",
   "mimetype": "text/x-python",
   "name": "python",
   "nbconvert_exporter": "python",
   "pygments_lexer": "ipython3",
   "version": "3.11.5"
  }
 },
 "nbformat": 4,
 "nbformat_minor": 5
}
