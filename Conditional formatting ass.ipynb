{
 "cells": [
  {
   "cell_type": "code",
   "execution_count": 1,
   "id": "614b4f37",
   "metadata": {},
   "outputs": [
    {
     "name": "stdout",
     "output_type": "stream",
     "text": [
      "Shipment RegionNorth Central\n",
      "Item Weight in KG:6.5\n",
      "Item ConditionFragile\n",
      "Item Quantity4\n",
      "Enter item Cost6000\n",
      "\n",
      "Item Cost: 24000.0\n",
      "Shipping Fee: 234.0\n",
      "Total Cost plus shipment is 24234.0\n"
     ]
    }
   ],
   "source": [
    "region = input('Shipment Region')\n",
    "weight = float(input('Item Weight in KG:'))\n",
    "condition = input('Item Condition')\n",
    "quantity = float(input('Item Quantity'))\n",
    "costperitem = float(input('Enter item Cost'))\n",
    "if region == 'South South' and condition == \"Fragile\":\n",
    "    print(f'''\n",
    "Item Cost: {quantity * costperitem}\n",
    "Shipping Fee: {(weight * 10 * quantity)}\n",
    "Total Cost plus shipment is {(weight * 10 * quantity) + (quantity * costperitem)}''')\n",
    "elif region == 'South South' and condition == 'Non-Fragile':\n",
    "    print(f'''\n",
    "Item Cost: {quantity * costperitem}\n",
    "Shipping Fee: {(weight * 8 * quantity)}\n",
    "Total Cost plus shipment is {(weight * 8 * quantity) + (quantity * costperitem)}''')\n",
    "elif region == 'South East' and condition == \"Fragile\":\n",
    "    print(f'''\n",
    "Item Cost: {quantity * costperitem}\n",
    "Shipping Fee: {(weight * 12 * quantity)}\n",
    "Total Cost plus shipment is {(weight * 12 * quantity) + (quantity * costperitem)}''')\n",
    "elif region == 'South South' and condition == 'Non-Fragile':\n",
    "    print(f'''\n",
    "Item Cost: {quantity * costperitem}\n",
    "Shipping Fee: {(weight * 9 * quantity)}\n",
    "Total Cost plus shipment is {(weight * 9 * quantity) + (quantity * costperitem)}''')\n",
    "elif region == 'South West' and condition == \"Fragile\":\n",
    "    print(f'''\n",
    "Item Cost: {quantity * costperitem}\n",
    "Shipping Fee: {(weight * 11 * quantity)}\n",
    "Total Cost plus shipment is {(weight * 11 * quantity) + (quantity * costperitem)}''')\n",
    "elif region == 'South West' and condition == 'Non-Fragile':\n",
    "    print(f'''\n",
    "Item Cost: {quantity * costperitem}\n",
    "Shipping Fee: {(weight * 7 * quantity)}\n",
    "Total Cost plus shipment is {(weight * 7 * quantity) + (quantity * costperitem)}''')\n",
    "elif region == 'North Central' and condition == \"Fragile\":\n",
    "    print(f'''\n",
    "Item Cost: {quantity * costperitem}\n",
    "Shipping Fee: {(weight * 9 * quantity)}\n",
    "Total Cost plus shipment is {(weight * 9 * quantity) + (quantity * costperitem)}''')\n",
    "elif region == 'North Central' and condition == 'Non-Fragile':\n",
    "    print(f'''\n",
    "Item Cost: {quantity * costperitem}\n",
    "Shipping Fee: {(weight * 6 * quantity)}\n",
    "Total Cost plus shipment is {(weight * 6 * quantity) + (quantity * costperitem)}''')\n",
    "elif region == 'North West' and condition == \"Fragile\":\n",
    "    print(f'''\n",
    "Item Cost: {quantity * costperitem}\n",
    "Shipping Fee: {(weight * 13 * quantity)}\n",
    "Total Cost plus shipment is {(weight * 13 * quantity) + (quantity * costperitem)}''')\n",
    "elif region == 'North West' and condition == 'Non-Fragile':\n",
    "    print(f'''\n",
    "Item Cost: {quantity * costperitem}\n",
    "Shipping Fee: {(weight * 8.5 * quantity)}\n",
    "Total Cost plus shipment is {(weight * 8.5 * quantity) + (quantity * costperitem)}''')\n",
    "elif region == 'North East' and condition == \"Fragile\":\n",
    "    print(f'''\n",
    "Item Cost: {quantity * costperitem}\n",
    "Shipping Fee: {(weight * 14 * quantity)}\n",
    "Total Cost plus shipment is {(weight * 14 * quantity) + (quantity * costperitem)}''')\n",
    "elif region == 'North East' and condition == 'Non-Fragile':\n",
    "    print(f'''\n",
    "Item Cost: {quantity * costperitem}\n",
    "Shipping Fee: {(weight * 7.5 * quantity)}\n",
    "Total Cost plus shipment is {(weight * 7.5 * quantity) + (quantity * costperitem)}''')"
   ]
  },
  {
   "cell_type": "code",
   "execution_count": null,
   "id": "af16fda5",
   "metadata": {},
   "outputs": [],
   "source": []
  }
 ],
 "metadata": {
  "kernelspec": {
   "display_name": "Python 3 (ipykernel)",
   "language": "python",
   "name": "python3"
  },
  "language_info": {
   "codemirror_mode": {
    "name": "ipython",
    "version": 3
   },
   "file_extension": ".py",
   "mimetype": "text/x-python",
   "name": "python",
   "nbconvert_exporter": "python",
   "pygments_lexer": "ipython3",
   "version": "3.11.5"
  }
 },
 "nbformat": 4,
 "nbformat_minor": 5
}
