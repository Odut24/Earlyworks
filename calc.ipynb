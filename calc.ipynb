{
 "cells": [
  {
   "cell_type": "code",
   "execution_count": 92,
   "id": "eba01806",
   "metadata": {},
   "outputs": [
    {
     "name": "stdout",
     "output_type": "stream",
     "text": [
      "WELCOME TO DIY BUILDING ESTIMATE CALCULATOR\n",
      "type START to use calculator:start\n",
      "one acre of land is #20,000\n",
      "HOW MANY ACRES OF LAND DO YOU WANT:33\n",
      "TOTAL LAND COST: 660000\n",
      "one bag of cement is #3500\n",
      "one trailer of sand is #10000\n",
      "one trailer of granite is #20000\n",
      "HOW MANY BAGS OF CEMENT WILL YOU NEED:4\n",
      "HOW MANY TRAILERS OF SAND DO YOU NEED:4\n",
      "HOW MANY TRAILERS OF GRANITE DO YOU NEED:5\n",
      "TOTAL MATERIAL COST IS: N154000\n",
      "ONE DAY LABOURER COST #2000\n",
      "HOW MANY LABOURER DO YOU NEED:3\n",
      "HOW MANY DAY DO YOU ESTIMATE FOR THE CONSTRUCTION:400\n",
      "TOTAL LABOUR COST: 2400000\n",
      "ALLOCATE AN AMOUNT FOR OTHER EXPENSES:400000\n"
     ]
    },
    {
     "ename": "AttributeError",
     "evalue": "type object 'estimate_calculator' has no attribute 'landcost'",
     "output_type": "error",
     "traceback": [
      "\u001b[1;31m---------------------------------------------------------------------------\u001b[0m",
      "\u001b[1;31mAttributeError\u001b[0m                            Traceback (most recent call last)",
      "Cell \u001b[1;32mIn[92], line 38\u001b[0m\n\u001b[0;32m     36\u001b[0m     estimate1\u001b[38;5;241m.\u001b[39mlabour()\n\u001b[0;32m     37\u001b[0m     estimate1\u001b[38;5;241m.\u001b[39mmiscellaneous()\n\u001b[1;32m---> 38\u001b[0m     \u001b[38;5;28mprint\u001b[39m(\u001b[38;5;124mf\u001b[39m\u001b[38;5;124m'\u001b[39m\u001b[38;5;124mtotal estimate: \u001b[39m\u001b[38;5;132;01m{\u001b[39;00mestimate1\u001b[38;5;241m.\u001b[39mlandcost\u001b[38;5;132;01m}\u001b[39;00m\u001b[38;5;124m+\u001b[39m\u001b[38;5;132;01m{\u001b[39;00mestimate1\u001b[38;5;241m.\u001b[39mmaterialcost\u001b[38;5;132;01m}\u001b[39;00m\u001b[38;5;124m+\u001b[39m\u001b[38;5;132;01m{\u001b[39;00mestimate1\u001b[38;5;241m.\u001b[39mlabourcost\u001b[38;5;132;01m}\u001b[39;00m\u001b[38;5;124m+\u001b[39m\u001b[38;5;132;01m{\u001b[39;00mestimate1\u001b[38;5;241m.\u001b[39motherexpenses\u001b[38;5;132;01m}\u001b[39;00m\u001b[38;5;124m'\u001b[39m)\n\u001b[0;32m     39\u001b[0m \u001b[38;5;28;01melse\u001b[39;00m:\n\u001b[0;32m     40\u001b[0m     \u001b[38;5;28mprint\u001b[39m(\u001b[38;5;124m'\u001b[39m\u001b[38;5;124mTHANK YOU FOR USING OUR SERVICES\u001b[39m\u001b[38;5;124m'\u001b[39m)\n",
      "\u001b[1;31mAttributeError\u001b[0m: type object 'estimate_calculator' has no attribute 'landcost'"
     ]
    }
   ],
   "source": [
    "class estimate_calculator:\n",
    "    \n",
    "    def land():\n",
    "        print('one acre of land is #20,000')\n",
    "        land_cost = int(input('HOW MANY ACRES OF LAND DO YOU WANT:'))\n",
    "        landcost = (land_cost * 20000)\n",
    "        print(f'TOTAL LAND COST: {landcost}')\n",
    "    \n",
    "    def material():\n",
    "        print('one bag of cement is #3500')\n",
    "        print('one trailer of sand is #10000')\n",
    "        print('one trailer of granite is #20000')\n",
    "        cement_cost = int(input('HOW MANY BAGS OF CEMENT WILL YOU NEED:'))\n",
    "        sand_cost = int(input('HOW MANY TRAILERS OF SAND DO YOU NEED:'))\n",
    "        granite_cost = int(input('HOW MANY TRAILERS OF GRANITE DO YOU NEED:'))\n",
    "        materialcost = cement_cost*3500 + granite_cost*20000 + sand_cost*10000\n",
    "        print(f'TOTAL MATERIAL COST IS: N{materialcost}')\n",
    "        \n",
    "    def labour():\n",
    "        print('ONE DAY LABOURER COST #2000')\n",
    "        labourer = int(input('HOW MANY LABOURER DO YOU NEED:'))\n",
    "        Days = int(input('HOW MANY DAY DO YOU ESTIMATE FOR THE CONSTRUCTION:'))\n",
    "        labourcost = labourer * Days * 2000 \n",
    "        print(f'TOTAL LABOUR COST: {labourcost}')\n",
    "        \n",
    "    def miscellaneous():\n",
    "        otherexpenses = int(input('ALLOCATE AN AMOUNT FOR OTHER EXPENSES:'))\n",
    "        print = (f'YOU ALLOCATED N{otherexpenses} FOR OTHER EXPENSES')\n",
    "        \n",
    "estimate1 = estimate_calculator\n",
    "print('WELCOME TO DIY BUILDING ESTIMATE CALCULATOR')\n",
    "operation = input(('type START to use calculator:')) \n",
    "if operation == 'start':\n",
    "    estimate1.land()\n",
    "    estimate1.material()\n",
    "    estimate1.labour()\n",
    "    estimate1.miscellaneous()\n",
    "    print(f'total estimate: {estimate1.landcost}+{estimate1.materialcost}+{estimate1.labourcost}+{estimate1.otherexpenses}')\n",
    "else:\n",
    "    print('THANK YOU FOR USING OUR SERVICES')\n",
    "    "
   ]
  },
  {
   "cell_type": "code",
   "execution_count": 93,
   "id": "7bd2bd04",
   "metadata": {},
   "outputs": [
    {
     "name": "stdout",
     "output_type": "stream",
     "text": [
      "WELCOME TO DIY BUILDING ESTIMATE CALCULATOR\n",
      "type START to use calculator:start\n",
      "one acre of land is #20,000\n",
      "HOW MANY ACRES OF LAND DO YOU WANT:30\n",
      "TOTAL LAND COST: 600000\n",
      "one bag of cement is #3500\n",
      "one trailer of sand is #10000\n",
      "one trailer of granite is #20000\n",
      "HOW MANY BAGS OF CEMENT WILL YOU NEED:100\n",
      "HOW MANY TRAILERS OF SAND DO YOU NEED:20\n",
      "HOW MANY TRAILERS OF GRANITE DO YOU NEED:20\n",
      "TOTAL MATERIAL COST IS: N950000\n",
      "ONE DAY LABOURER COST #2000\n",
      "HOW MANY LABOURER DO YOU NEED:20\n",
      "HOW MANY DAY DO YOU ESTIMATE FOR THE CONSTRUCTION:125\n",
      "TOTAL LABOUR COST: 5000000\n",
      "ALLOCATE AN AMOUNT FOR OTHER EXPENSES:300000\n",
      "YOU ALLOCATED N300000 FOR OTHER EXPENSES\n",
      "total estimate: 6850000\n"
     ]
    }
   ],
   "source": [
    "class estimate_calculator:\n",
    "\n",
    "    def land(self):\n",
    "        print('one acre of land is #20,000')\n",
    "        self.land_cost = int(input('HOW MANY ACRES OF LAND DO YOU WANT:'))\n",
    "        self.landcost = self.land_cost * 20000\n",
    "        print(f'TOTAL LAND COST: {self.landcost}')\n",
    "\n",
    "    def material(self):\n",
    "        print('one bag of cement is #3500')\n",
    "        print('one trailer of sand is #10000')\n",
    "        print('one trailer of granite is #20000')\n",
    "        self.cement_cost = int(input('HOW MANY BAGS OF CEMENT WILL YOU NEED:'))\n",
    "        self.sand_cost = int(input('HOW MANY TRAILERS OF SAND DO YOU NEED:'))\n",
    "        self.granite_cost = int(input('HOW MANY TRAILERS OF GRANITE DO YOU NEED:'))\n",
    "        self.materialcost = self.cement_cost * 3500 + self.granite_cost * 20000 + self.sand_cost * 10000\n",
    "        print(f'TOTAL MATERIAL COST IS: N{self.materialcost}')\n",
    "\n",
    "    def labour(self):\n",
    "        print('ONE DAY LABOURER COST #2000')\n",
    "        self.labourer = int(input('HOW MANY LABOURER DO YOU NEED:'))\n",
    "        self.Days = int(input('HOW MANY DAY DO YOU ESTIMATE FOR THE CONSTRUCTION:'))\n",
    "        self.labourcost = self.labourer * self.Days * 2000\n",
    "        print(f'TOTAL LABOUR COST: {self.labourcost}')\n",
    "\n",
    "    def miscellaneous(self):\n",
    "        self.otherexpenses = int(input('ALLOCATE AN AMOUNT FOR OTHER EXPENSES:'))\n",
    "        print(f'YOU ALLOCATED N{self.otherexpenses} FOR OTHER EXPENSES')\n",
    "\n",
    "estimate1 = estimate_calculator()\n",
    "print('WELCOME TO DIY BUILDING ESTIMATE CALCULATOR')\n",
    "operation = input(('type START to use calculator:')) \n",
    "if operation.lower() == 'start':\n",
    "    estimate1.land()\n",
    "    estimate1.material()\n",
    "    estimate1.labour()\n",
    "    estimate1.miscellaneous()\n",
    "    \n",
    "    total_estimate = estimate1.landcost + estimate1.materialcost + estimate1.labourcost + estimate1.otherexpenses\n",
    "    print(f'total estimate: {total_estimate}')\n",
    "else:\n",
    "    print('THANK YOU FOR USING OUR SERVICES')\n"
   ]
  },
  {
   "cell_type": "code",
   "execution_count": null,
   "id": "77b9b78a",
   "metadata": {},
   "outputs": [],
   "source": []
  }
 ],
 "metadata": {
  "kernelspec": {
   "display_name": "Python 3 (ipykernel)",
   "language": "python",
   "name": "python3"
  },
  "language_info": {
   "codemirror_mode": {
    "name": "ipython",
    "version": 3
   },
   "file_extension": ".py",
   "mimetype": "text/x-python",
   "name": "python",
   "nbconvert_exporter": "python",
   "pygments_lexer": "ipython3",
   "version": "3.11.5"
  }
 },
 "nbformat": 4,
 "nbformat_minor": 5
}
