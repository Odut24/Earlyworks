{
 "cells": [
  {
   "cell_type": "code",
   "execution_count": 1,
   "id": "4ad7bc01",
   "metadata": {},
   "outputs": [
    {
     "name": "stdout",
     "output_type": "stream",
     "text": [
      "['MAXYEAR', 'MINYEAR', 'UTC', '__all__', '__builtins__', '__cached__', '__doc__', '__file__', '__loader__', '__name__', '__package__', '__spec__', 'date', 'datetime', 'datetime_CAPI', 'sys', 'time', 'timedelta', 'timezone', 'tzinfo']\n"
     ]
    }
   ],
   "source": [
    "##datetime module\n",
    "import datetime\n",
    "print (dir(datetime))"
   ]
  },
  {
   "cell_type": "code",
   "execution_count": 2,
   "id": "1fa4c144",
   "metadata": {},
   "outputs": [
    {
     "data": {
      "text/plain": [
       "datetime.date(2024, 1, 1)"
      ]
     },
     "execution_count": 2,
     "metadata": {},
     "output_type": "execute_result"
    }
   ],
   "source": [
    "date1 = datetime.date(2024,1,1)\n",
    "date1"
   ]
  },
  {
   "cell_type": "code",
   "execution_count": 3,
   "id": "5060624e",
   "metadata": {},
   "outputs": [
    {
     "name": "stdout",
     "output_type": "stream",
     "text": [
      "2024\n",
      "1\n",
      "1\n",
      "0\n",
      "1\n"
     ]
    }
   ],
   "source": [
    "print(date1.year)\n",
    "print(date1.month)\n",
    "print(date1.day)\n",
    "print(date1.weekday())\n",
    "print(date1.isoweekday())"
   ]
  },
  {
   "cell_type": "code",
   "execution_count": 5,
   "id": "1d021263",
   "metadata": {},
   "outputs": [
    {
     "data": {
      "text/plain": [
       "datetime.date(2024, 1, 30)"
      ]
     },
     "execution_count": 5,
     "metadata": {},
     "output_type": "execute_result"
    }
   ],
   "source": [
    "##strftime is used for the modification of date and time formatted in a string\n",
    "currentdate = datetime.date.today()\n",
    "currentdate"
   ]
  },
  {
   "cell_type": "code",
   "execution_count": 6,
   "id": "6b6d885f",
   "metadata": {},
   "outputs": [
    {
     "name": "stdout",
     "output_type": "stream",
     "text": [
      "Tue\n",
      "Tuesday\n",
      "Jan\n",
      "January\n",
      "24\n",
      "2024\n",
      "01\n",
      "30\n"
     ]
    }
   ],
   "source": [
    "print(currentdate.strftime('%a'))\n",
    "print(currentdate.strftime('%A'))\n",
    "print(currentdate.strftime('%b'))\n",
    "print(currentdate.strftime('%B'))\n",
    "print(currentdate.strftime('%y'))\n",
    "print(currentdate.strftime('%Y'))\n",
    "print(currentdate.strftime('%m'))\n",
    "print(currentdate.strftime('%d'))"
   ]
  },
  {
   "cell_type": "code",
   "execution_count": 13,
   "id": "a5ed8fa9",
   "metadata": {},
   "outputs": [
    {
     "name": "stdout",
     "output_type": "stream",
     "text": [
      "30th of January, 2024\n"
     ]
    }
   ],
   "source": [
    "##format the current date in this format 30th of January, 2024\n",
    "print(currentdate.strftime('%dth of %B, %Y'))"
   ]
  },
  {
   "cell_type": "code",
   "execution_count": 18,
   "id": "4f502925",
   "metadata": {},
   "outputs": [
    {
     "data": {
      "text/plain": [
       "datetime.time(20, 45, 23, 23244)"
      ]
     },
     "execution_count": 18,
     "metadata": {},
     "output_type": "execute_result"
    }
   ],
   "source": [
    "time1 = datetime.time(20,45,23,23244)\n",
    "time1"
   ]
  },
  {
   "cell_type": "code",
   "execution_count": 20,
   "id": "dff3fcc9",
   "metadata": {},
   "outputs": [
    {
     "name": "stdout",
     "output_type": "stream",
     "text": [
      "20\n",
      "45\n",
      "23\n",
      "23244\n"
     ]
    }
   ],
   "source": [
    "print(time1.hour)\n",
    "print(time1.minute)\n",
    "print(time1.second)\n",
    "print(time1.microsecond)"
   ]
  },
  {
   "cell_type": "code",
   "execution_count": 23,
   "id": "08831c12",
   "metadata": {},
   "outputs": [
    {
     "data": {
      "text/plain": [
       "datetime.time(16, 48, 29, 183784)"
      ]
     },
     "execution_count": 23,
     "metadata": {},
     "output_type": "execute_result"
    }
   ],
   "source": [
    "currenttime = datetime.datetime.now().time()\n",
    "currenttime"
   ]
  },
  {
   "cell_type": "code",
   "execution_count": 24,
   "id": "c10d796d",
   "metadata": {},
   "outputs": [
    {
     "name": "stdout",
     "output_type": "stream",
     "text": [
      "16\n",
      "04\n",
      "48\n",
      "29\n",
      "183784\n",
      "PM\n"
     ]
    }
   ],
   "source": [
    "print(currenttime.strftime('%H'))\n",
    "print(currenttime.strftime('%I'))\n",
    "print(currenttime.strftime('%M'))\n",
    "print(currenttime.strftime('%S'))\n",
    "print(currenttime.strftime('%f'))\n",
    "print(currenttime.strftime('%p'))"
   ]
  },
  {
   "cell_type": "code",
   "execution_count": 26,
   "id": "6103e3d2",
   "metadata": {},
   "outputs": [
    {
     "data": {
      "text/plain": [
       "datetime.datetime(2024, 1, 30, 16, 59, 15, 477384)"
      ]
     },
     "execution_count": 26,
     "metadata": {},
     "output_type": "execute_result"
    }
   ],
   "source": [
    "currentdatetime = datetime.datetime.now()\n",
    "currentdatetime"
   ]
  },
  {
   "cell_type": "raw",
   "id": "f2527bdc",
   "metadata": {},
   "source": [
    "##strptime convert string datetime format to datetime format"
   ]
  },
  {
   "cell_type": "code",
   "execution_count": 28,
   "id": "03cbc2a7",
   "metadata": {},
   "outputs": [
    {
     "name": "stdout",
     "output_type": "stream",
     "text": [
      "Please enter your date [mm/dd/yy]:09/23/22\n",
      "2022-09-23 00:00:00\n"
     ]
    }
   ],
   "source": [
    "date2 = input('Please enter your date [mm/dd/yy]:')\n",
    "cdate = datetime.datetime.strptime(date2,'%m/%d/%y')\n",
    "print(cdate)"
   ]
  },
  {
   "cell_type": "code",
   "execution_count": 29,
   "id": "9d478d38",
   "metadata": {},
   "outputs": [
    {
     "name": "stdout",
     "output_type": "stream",
     "text": [
      "Please enter your date [mm/dd/yy]:09/23/22\n",
      "2022-09-23\n"
     ]
    }
   ],
   "source": [
    "date2 = input('Please enter your date [mm/dd/yy]:')\n",
    "cdate = datetime.datetime.strptime(date2,'%m/%d/%y').date()\n",
    "print(cdate)"
   ]
  },
  {
   "cell_type": "code",
   "execution_count": 30,
   "id": "da4e1269",
   "metadata": {},
   "outputs": [
    {
     "data": {
      "text/plain": [
       "datetime.timedelta(days=29)"
      ]
     },
     "execution_count": 30,
     "metadata": {},
     "output_type": "execute_result"
    }
   ],
   "source": [
    "##timedelta it is yhe difference between 2 dates and time\n",
    "currentdate - date1"
   ]
  },
  {
   "cell_type": "code",
   "execution_count": 31,
   "id": "2b9d88ab",
   "metadata": {},
   "outputs": [
    {
     "data": {
      "text/plain": [
       "datetime.date(2024, 6, 18)"
      ]
     },
     "execution_count": 31,
     "metadata": {},
     "output_type": "execute_result"
    }
   ],
   "source": [
    "currentdate + datetime.timedelta(weeks = 20)"
   ]
  },
  {
   "cell_type": "code",
   "execution_count": 32,
   "id": "fbc0f625",
   "metadata": {},
   "outputs": [],
   "source": [
    "##exercise\n",
    "##early code is building a systema and you are instructed to write the code\n",
    "##that allows students to check there exam date in weeks and days from the current date"
   ]
  },
  {
   "cell_type": "code",
   "execution_count": 36,
   "id": "f99ab343",
   "metadata": {},
   "outputs": [
    {
     "name": "stdout",
     "output_type": "stream",
     "text": [
      "PLEASE ENTER YOUR DATE [yy/mm/dd]:24/07/30\n",
      "you have 26 weeks  and 0 days left for your exam\n",
      "GOOD LUCK\n"
     ]
    }
   ],
   "source": [
    "date_of_exam = input('PLEASE ENTER YOUR DATE [yy/mm/dd]:')\n",
    "cdate_of_exam = datetime.datetime.strptime(date_of_exam,'%y/%m/%d').date()\n",
    "current_date = datetime.date.today()\n",
    "difference = cdate_of_exam - current_date\n",
    "weeks = difference.days// 7  ##// doesnt return the reminder\n",
    "days = difference.days% 7   ## % returns only the reminder\n",
    "print(f'you have {weeks} weeks  and {days} days left for your exam')\n",
    "print('GOOD LUCK')\n"
   ]
  },
  {
   "cell_type": "code",
   "execution_count": null,
   "id": "2d0b8018",
   "metadata": {},
   "outputs": [],
   "source": []
  }
 ],
 "metadata": {
  "kernelspec": {
   "display_name": "Python 3 (ipykernel)",
   "language": "python",
   "name": "python3"
  },
  "language_info": {
   "codemirror_mode": {
    "name": "ipython",
    "version": 3
   },
   "file_extension": ".py",
   "mimetype": "text/x-python",
   "name": "python",
   "nbconvert_exporter": "python",
   "pygments_lexer": "ipython3",
   "version": "3.11.5"
  }
 },
 "nbformat": 4,
 "nbformat_minor": 5
}
