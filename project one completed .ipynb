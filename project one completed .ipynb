{
 "cells": [
  {
   "cell_type": "code",
   "execution_count": null,
   "id": "3de1395a",
   "metadata": {},
   "outputs": [],
   "source": [
    "import pymysql"
   ]
  },
  {
   "cell_type": "code",
   "execution_count": 4,
   "id": "198c0e22",
   "metadata": {},
   "outputs": [],
   "source": [
    "mydb = pymysql.connect(\n",
    "    host = 'localhost',\n",
    "    user = 'root',\n",
    "    password = 'opeyemi'\n",
    ")\n",
    "cursor = mydb.cursor()"
   ]
  },
  {
   "cell_type": "code",
   "execution_count": 6,
   "id": "1b1d05b6",
   "metadata": {},
   "outputs": [
    {
     "name": "stdout",
     "output_type": "stream",
     "text": [
      "('earlycodeacademy',)\n",
      "('earlycodeacademy2',)\n",
      "('employee_system',)\n",
      "('information_schema',)\n",
      "('j_waec_system',)\n",
      "('mysql',)\n",
      "('performance_schema',)\n",
      "('prime_academy',)\n",
      "('sakila',)\n",
      "('sys',)\n",
      "('world',)\n"
     ]
    }
   ],
   "source": [
    "cursor.execute('show databases')\n",
    "for x in cursor:\n",
    "    print(x)"
   ]
  },
  {
   "cell_type": "code",
   "execution_count": 8,
   "id": "06899889",
   "metadata": {},
   "outputs": [
    {
     "data": {
      "text/plain": [
       "1"
      ]
     },
     "execution_count": 8,
     "metadata": {},
     "output_type": "execute_result"
    }
   ],
   "source": [
    "cursor.execute('create database prime_gym')"
   ]
  },
  {
   "cell_type": "code",
   "execution_count": 9,
   "id": "22f2f5e3",
   "metadata": {},
   "outputs": [
    {
     "name": "stdout",
     "output_type": "stream",
     "text": [
      "('earlycodeacademy',)\n",
      "('earlycodeacademy2',)\n",
      "('employee_system',)\n",
      "('information_schema',)\n",
      "('j_waec_system',)\n",
      "('mysql',)\n",
      "('performance_schema',)\n",
      "('prime_academy',)\n",
      "('prime_gym',)\n",
      "('sakila',)\n",
      "('sys',)\n",
      "('world',)\n"
     ]
    }
   ],
   "source": [
    "cursor.execute('show databases')\n",
    "for x in cursor:\n",
    "    print(x)"
   ]
  },
  {
   "cell_type": "code",
   "execution_count": null,
   "id": "236b16ef",
   "metadata": {},
   "outputs": [],
   "source": [
    "mydb = pymysql.connect(\n",
    "    host = 'localhost',\n",
    "    user = 'root',\n",
    "    password = 'opeyemi',\n",
    "    database = 'prime_gym'\n",
    ")\n",
    "cursor = mydb.cursor()"
   ]
  },
  {
   "cell_type": "code",
   "execution_count": 16,
   "id": "5eb9e106",
   "metadata": {},
   "outputs": [
    {
     "data": {
      "text/plain": [
       "0"
      ]
     },
     "execution_count": 16,
     "metadata": {},
     "output_type": "execute_result"
    }
   ],
   "source": [
    "cursor.execute('create table Customer ( Customerid int primary key not null, name varchar(40) not null, emailaddress varchar(100) not null, phonenumber varchar(12) not null, gender varchar(7) not null, weight varchar(20) not null, height varchar(20) not null, subscribtion_plan varchar (20) null, startdate date null, expdate date not null)')"
   ]
  },
  {
   "cell_type": "code",
   "execution_count": 24,
   "id": "5d379b7f",
   "metadata": {},
   "outputs": [
    {
     "name": "stderr",
     "output_type": "stream",
     "text": [
      "\n",
      "KeyboardInterrupt\n",
      "\n"
     ]
    }
   ],
   "source": [
    "cursor.execute('alter  table customer modify column expdate date null')"
   ]
  },
  {
   "cell_type": "code",
   "execution_count": 49,
   "id": "22a6a653",
   "metadata": {},
   "outputs": [],
   "source": [
    "def registration():\n",
    "    ID = int(input('ENTER CUSTOMER ID: '))\n",
    "    NAME = input('ENTER CUSTOMER NAME:')\n",
    "    EMAIL = input('ENTER EMAIL ADDRESS:')\n",
    "    PHONE_NUMBER = input('ENTER YOUR PHONE NUMBER: ')\n",
    "    GENDER = input('ENTER YOUR GENDER (MALE/FEMALE) : ')\n",
    "    WEIGHT = input('ENTER YOUR CURRENT WEIGHT (in KG): ')\n",
    "    HEIGHT = input('ENTER YOUR CURRENT HEIGHT (in meters): ')\n",
    "    \n",
    "    query = 'insert into customer (customerid,name, emailaddress, phonenumber, gender, weight, height) values(%s,%s,%s,%s,%s,%s,%s)'\n",
    "    cursor.execute(query, (ID,NAME,EMAIL,PHONE_NUMBER,GENDER,WEIGHT,HEIGHT))\n",
    "    mydb.commit()\n",
    "    print('REGISTRATION COMPLETED')\n",
    "    print('KINDLY CHECK OUR SUBSCRIPTION PLANS AND MAKE YOUR PREFERRED CHOICE')\n",
    "    \n",
    "def subscription():\n",
    "    print('BRONZE - #10,000 FOR 2 WEEKS')\n",
    "    print('SILVER - #18,000 FOR 1 MONTH')\n",
    "    print('GOLD - #50,000 FOR 3 MONTHS')\n",
    "    \n",
    "    PAYMENT = input('CHOOSE YOUR PREFERRED PLAN: ')\n",
    "    ID = int(input('ENTER CUSTOMER ID: '))\n",
    "    if PAYMENT == 'BRONZE'.lower():\n",
    "        query1 = 'update customer set subscribtion_plan = \"BASIC\" where customerid = %s'\n",
    "        query2 = 'update customer set startdate = CURDATE() where customerid = %s'\n",
    "        query3 = 'update customer set expdate = DATE_ADD(CURDATE(), INTERVAL 2 WEEK) where customerid = %s'\n",
    "    elif PAYMENT == 'SILVER'.lower():\n",
    "        query1 = 'update customer set subscribtion_plan = \"SILVER\" where customerid = %s'\n",
    "        query2 = 'update customer set startdate = CURDATE() where customerid = %s'\n",
    "        query3 = 'update customer set expdate = DATE_ADD(CURDATE(), INTERVAL 1 MONTH) where customerid = %s'\n",
    "    elif PAYMENT == 'GOLD'.lower():\n",
    "        query1 = 'update customer set subscribtion_plan = \"GOLD\" where customerid = %s'\n",
    "        query2 = 'update customer set startdate = CURDATE() where customerid = %s'\n",
    "        query3 = 'update customer set expdate = DATE_ADD(CURDATE(), INTERVAL 3 MONTH) where customerid = %s'\n",
    "    \n",
    "    cursor.execute(query1,(ID,))\n",
    "    cursor.execute(query2,(ID,))\n",
    "    cursor.execute(query3,(ID,))\n",
    "    mydb.commit()\n",
    "    print('YOUR SUBSCRIPTION WAS SUCCESSFULL')\n",
    "    \n",
    "def status():\n",
    "    ID = int(input('TO CHECK STATUS, PLEASE ENTER YOUR ID: '))\n",
    "    query = 'select customerid, name, subscribtion_plan, startdate,expdate from customer where customerid = %s'\n",
    "    cursor.execute(query,(ID))\n",
    "    RESULT = cursor.fetchall()\n",
    "    if len(RESULT) == 0:\n",
    "        print('ID does not exist.....')\n",
    "        print('Kindly complete your registration......')\n",
    "    else:\n",
    "        for x in RESULT:\n",
    "            print(x)\n",
    "            \n",
    "def unsubscribe():\n",
    "    ID = int(input('KINDLY ENTER THE ID YOU WANT TO DELETE: '))\n",
    "    query = 'delete from customer where customerid = %s'\n",
    "    cursor.execute(query,(ID))\n",
    "    mydb.commit()\n",
    "    print('YOU HAVE SUCCESSFULLY UNSCUBSCRIBED FROM PRIME_GYM')\n",
    "    \n",
    "\n",
    "def main():\n",
    "    print('...........WELCOME TO PRIME_GYM.......... ')\n",
    "    print('OPERATION: REGISTRATION, SUBSCRIPTION, STATUS, UNSUBSCRIBE, LOGOUT')\n",
    "    operation = True \n",
    "    while operation: \n",
    "        option = input('KINDLY SELECT OPERATION: ')\n",
    "        if option == 'Registration'.lower():\n",
    "            registration()\n",
    "        elif option == 'Subscription'.lower():\n",
    "            subscription()\n",
    "        elif option == 'Status'.lower():\n",
    "            status() \n",
    "        elif option == 'Unsubscribe'.lower():\n",
    "            unsubscribe()\n",
    "        elif option == 'Logout'.lower():\n",
    "            operation == False\n",
    "            print('YOU HAVE LOGGED OUT...')\n",
    "        break"
   ]
  },
  {
   "cell_type": "code",
   "execution_count": 44,
   "id": "3842eafd",
   "metadata": {},
   "outputs": [
    {
     "name": "stdout",
     "output_type": "stream",
     "text": [
      "...........WELCOME TO PRIME_GYM.......... \n",
      "OPERATION: REGISTRATION, SUBSCRIPTION, STATUS, UNSUBSCRIBE, LOGOUT\n",
      "KINDLY SELECT OPERATION: subscription\n",
      "BRONZE - #10,000 FOR 2 WEEKS\n",
      "SILVER - #18,000 FOR 1 MONTH\n",
      "GOLD - #50,000 FOR 3 MONTHS\n",
      "CHOOSE YOUR PREFERRED PLAN: gold\n",
      "ENTER CUSTOMER ID: 3\n",
      "YOUR SUBSCRIPTION WAS SUCCESSFULL\n"
     ]
    }
   ],
   "source": [
    "main()"
   ]
  },
  {
   "cell_type": "code",
   "execution_count": 45,
   "id": "c148dfe9",
   "metadata": {},
   "outputs": [
    {
     "name": "stdout",
     "output_type": "stream",
     "text": [
      "...........WELCOME TO PRIME_GYM.......... \n",
      "OPERATION: REGISTRATION, SUBSCRIPTION, STATUS, UNSUBSCRIBE, LOGOUT\n",
      "KINDLY SELECT OPERATION: status\n",
      "TO CHECK STATUS, PLEASE ENTER YOUR ID: 3\n",
      "(3, 'olu kay', 'GOLD', datetime.date(2024, 2, 17), datetime.date(2024, 5, 17))\n"
     ]
    }
   ],
   "source": [
    "main()"
   ]
  },
  {
   "cell_type": "code",
   "execution_count": 46,
   "id": "f1498dfe",
   "metadata": {},
   "outputs": [
    {
     "name": "stdout",
     "output_type": "stream",
     "text": [
      "...........WELCOME TO PRIME_GYM.......... \n",
      "OPERATION: REGISTRATION, SUBSCRIPTION, STATUS, UNSUBSCRIBE, LOGOUT\n",
      "KINDLY SELECT OPERATION: registration\n",
      "ENTER CUSTOMER ID: 1\n",
      "ENTER CUSTOMER NAME:one piece\n",
      "ENTER EMAIL ADDRESS:poee@gmail.com\n",
      "ENTER YOUR PHONE NUMBER: 0902228811\n",
      "ENTER YOUR GENDER (MALE/FEMALE) : male\n",
      "ENTER YOUR CURRENT WEIGHT (in KG): 40\n",
      "ENTER YOUR CURRENT HEIGHT (in meters): 1.2\n",
      "REGISTRATION COMPLETED\n",
      "KINDLY CHECK OUR SUBSCRIPTION PLANS AND MAKE YOUR PREFERRED CHOICE\n"
     ]
    }
   ],
   "source": [
    "main()"
   ]
  },
  {
   "cell_type": "code",
   "execution_count": 47,
   "id": "75226e3a",
   "metadata": {},
   "outputs": [
    {
     "name": "stdout",
     "output_type": "stream",
     "text": [
      "...........WELCOME TO PRIME_GYM.......... \n",
      "OPERATION: REGISTRATION, SUBSCRIPTION, STATUS, UNSUBSCRIBE, LOGOUT\n",
      "KINDLY SELECT OPERATION: unsubscribe\n",
      "KINDLY ENTER THE ID YOU WANT TO DELETE: 1\n",
      "YOU HAVE SUCCESSFULLY UNSCUBSCRIBED FROM PRIME_GYM\n"
     ]
    }
   ],
   "source": [
    "main()"
   ]
  },
  {
   "cell_type": "code",
   "execution_count": 48,
   "id": "d089e9f1",
   "metadata": {},
   "outputs": [
    {
     "name": "stdout",
     "output_type": "stream",
     "text": [
      "...........WELCOME TO PRIME_GYM.......... \n",
      "OPERATION: REGISTRATION, SUBSCRIPTION, STATUS, UNSUBSCRIBE, LOGOUT\n",
      "KINDLY SELECT OPERATION: status\n",
      "TO CHECK STATUS, PLEASE ENTER YOUR ID: 1\n",
      "ID does not exist.....\n",
      "Kindly complete your registration......\n"
     ]
    }
   ],
   "source": [
    "main()"
   ]
  },
  {
   "cell_type": "code",
   "execution_count": null,
   "id": "47c0a86b",
   "metadata": {},
   "outputs": [],
   "source": []
  }
 ],
 "metadata": {
  "kernelspec": {
   "display_name": "Python 3 (ipykernel)",
   "language": "python",
   "name": "python3"
  },
  "language_info": {
   "codemirror_mode": {
    "name": "ipython",
    "version": 3
   },
   "file_extension": ".py",
   "mimetype": "text/x-python",
   "name": "python",
   "nbconvert_exporter": "python",
   "pygments_lexer": "ipython3",
   "version": "3.11.5"
  }
 },
 "nbformat": 4,
 "nbformat_minor": 5
}
