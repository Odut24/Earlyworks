{
 "cells": [
  {
   "cell_type": "code",
   "execution_count": 11,
   "id": "12b3367e",
   "metadata": {},
   "outputs": [
    {
     "name": "stdout",
     "output_type": "stream",
     "text": [
      "[1, 2, 3, 4, 5]\n",
      "[1, 2, 3, 4, 5, 6]\n",
      "6\n"
     ]
    }
   ],
   "source": [
    "number = [1,2,3,4,5]\n",
    "print(number)\n",
    "number.append(6)\n",
    "print(number)\n",
    "print(len(number))"
   ]
  },
  {
   "cell_type": "code",
   "execution_count": 4,
   "id": "7a85649d",
   "metadata": {},
   "outputs": [
    {
     "name": "stdout",
     "output_type": "stream",
     "text": [
      "['apple', 'banana', 'cashew', 'mango', 'orange']\n",
      "['apple', 'banana', 'mango', 'orange']\n"
     ]
    }
   ],
   "source": [
    "fruits = ['apple','banana','cashew','mango','orange']\n",
    "print(fruits)\n",
    "fruits.remove('cashew')\n",
    "print(fruits)"
   ]
  },
  {
   "cell_type": "code",
   "execution_count": 5,
   "id": "036bc7cf",
   "metadata": {},
   "outputs": [
    {
     "name": "stdout",
     "output_type": "stream",
     "text": [
      "False\n"
     ]
    }
   ],
   "source": [
    "print('cashew' in fruits)"
   ]
  },
  {
   "cell_type": "code",
   "execution_count": 15,
   "id": "c0006c55",
   "metadata": {},
   "outputs": [
    {
     "data": {
      "text/plain": [
       "6"
      ]
     },
     "execution_count": 15,
     "metadata": {},
     "output_type": "execute_result"
    }
   ],
   "source": [
    "max(number)"
   ]
  },
  {
   "cell_type": "code",
   "execution_count": 16,
   "id": "3b299e27",
   "metadata": {},
   "outputs": [
    {
     "data": {
      "text/plain": [
       "1"
      ]
     },
     "execution_count": 16,
     "metadata": {},
     "output_type": "execute_result"
    }
   ],
   "source": [
    "min(number)"
   ]
  },
  {
   "cell_type": "code",
   "execution_count": 17,
   "id": "75a232c9",
   "metadata": {},
   "outputs": [
    {
     "name": "stdout",
     "output_type": "stream",
     "text": [
      "['opeyemi', 'john', 'samuel', 'ifeanyi', 'luper']\n"
     ]
    }
   ],
   "source": [
    "name = ['opeyemi','john','samuel','ifeanyi','luper']\n",
    "print(name)"
   ]
  },
  {
   "cell_type": "code",
   "execution_count": 20,
   "id": "622c478b",
   "metadata": {},
   "outputs": [
    {
     "name": "stdout",
     "output_type": "stream",
     "text": [
      "['ifeanyi', 'john', 'luper', 'opeyemi', 'samuel']\n"
     ]
    }
   ],
   "source": [
    "name.sort()\n",
    "print(name)"
   ]
  },
  {
   "cell_type": "code",
   "execution_count": 21,
   "id": "caf3ec8d",
   "metadata": {},
   "outputs": [
    {
     "name": "stdout",
     "output_type": "stream",
     "text": [
      "['dog', 'cow', 'cat', 'sheep', 'elephant', 'ant', 'dog', 'cat', 'sheep']\n"
     ]
    }
   ],
   "source": [
    "animals=['dog','cow','cat','sheep','elephant','ant','dog','cat','sheep']\n",
    "print(animals)"
   ]
  },
  {
   "cell_type": "code",
   "execution_count": 22,
   "id": "c74a7041",
   "metadata": {},
   "outputs": [
    {
     "data": {
      "text/plain": [
       "{'ant', 'cat', 'cow', 'dog', 'elephant', 'sheep'}"
      ]
     },
     "execution_count": 22,
     "metadata": {},
     "output_type": "execute_result"
    }
   ],
   "source": [
    "set(animals)"
   ]
  },
  {
   "cell_type": "code",
   "execution_count": 23,
   "id": "360be42e",
   "metadata": {},
   "outputs": [
    {
     "name": "stdout",
     "output_type": "stream",
     "text": [
      "['sheep', 'cat', 'dog', 'ant', 'elephant', 'sheep', 'cat', 'cow', 'dog']\n"
     ]
    }
   ],
   "source": [
    "animals.reverse()\n",
    "print(animals)"
   ]
  },
  {
   "cell_type": "code",
   "execution_count": 24,
   "id": "3e83dcbd",
   "metadata": {},
   "outputs": [
    {
     "name": "stdout",
     "output_type": "stream",
     "text": [
      "['sheep', 'cat', 'dog', 'ant', 'elephant', 'sheep', 'cat', 'cow', 'dog', 'apple', 'banana', 'mango', 'orange']\n"
     ]
    }
   ],
   "source": [
    "animals.extend(fruits)\n",
    "print(animals)"
   ]
  },
  {
   "cell_type": "code",
   "execution_count": 27,
   "id": "8ae4df0e",
   "metadata": {},
   "outputs": [
    {
     "name": "stdout",
     "output_type": "stream",
     "text": [
      "sheep\n",
      "cat\n",
      "dog\n",
      "ant\n",
      "elephant\n",
      "sheep\n",
      "cat\n",
      "cow\n",
      "dog\n",
      "apple\n",
      "banana\n",
      "mango\n",
      "orange\n"
     ]
    }
   ],
   "source": [
    "for animal in animals:\n",
    "    print(animal)"
   ]
  },
  {
   "cell_type": "code",
   "execution_count": 31,
   "id": "fc73dbe0",
   "metadata": {},
   "outputs": [
    {
     "name": "stdout",
     "output_type": "stream",
     "text": [
      "sheep i like\n",
      "cat i like\n",
      "dog i like\n",
      "ant i like\n",
      "elephant i like\n",
      "sheep i like\n",
      "cat i like\n",
      "cow i like\n",
      "dog i like\n",
      "apple i like\n",
      "banana i like\n",
      "mango i like\n",
      "orange i like\n"
     ]
    },
    {
     "data": {
      "text/plain": [
       "[None, None, None, None, None, None, None, None, None, None, None, None, None]"
      ]
     },
     "execution_count": 31,
     "metadata": {},
     "output_type": "execute_result"
    }
   ],
   "source": [
    "[print(animal + ' i like') for animal in animals]"
   ]
  },
  {
   "cell_type": "code",
   "execution_count": 32,
   "id": "2eba6d56",
   "metadata": {},
   "outputs": [
    {
     "name": "stdout",
     "output_type": "stream",
     "text": [
      "<class 'tuple'>\n"
     ]
    }
   ],
   "source": [
    "##tuple\n",
    "num = (1,2,3)\n",
    "print(type(num))"
   ]
  },
  {
   "cell_type": "code",
   "execution_count": 34,
   "id": "b0f35662",
   "metadata": {},
   "outputs": [
    {
     "name": "stdout",
     "output_type": "stream",
     "text": [
      "2\n"
     ]
    }
   ],
   "source": [
    "##accessing the second element\n",
    "print(num[1])"
   ]
  },
  {
   "cell_type": "code",
   "execution_count": 36,
   "id": "f189f937",
   "metadata": {},
   "outputs": [],
   "source": [
    "##no, ##tuples cannot be changed, added to or removed from once it has been created.\n",
    "##concatenate two tuples."
   ]
  },
  {
   "cell_type": "code",
   "execution_count": 38,
   "id": "38b9be33",
   "metadata": {},
   "outputs": [
    {
     "name": "stdout",
     "output_type": "stream",
     "text": [
      "('english', 'yoruba', 'igbo', 'hausa', 'spanish')\n"
     ]
    }
   ],
   "source": [
    "language_1 = ('english','yoruba')\n",
    "language_2 = ('igbo','hausa','spanish')\n",
    "language = language_1 + language_2 \n",
    "print(language)"
   ]
  },
  {
   "cell_type": "code",
   "execution_count": 40,
   "id": "3889845c",
   "metadata": {},
   "outputs": [
    {
     "name": "stdout",
     "output_type": "stream",
     "text": [
      "(12, 13, 14, 15, 16, 17, 18, 19, 10)\n",
      "4\n"
     ]
    }
   ],
   "source": [
    "num_2 = (12,13,14,15,16,17,18,19,10)\n",
    "print(num_2)\n",
    "print(num_2.index(16))"
   ]
  },
  {
   "cell_type": "code",
   "execution_count": 44,
   "id": "58ed08f8",
   "metadata": {},
   "outputs": [
    {
     "name": "stdout",
     "output_type": "stream",
     "text": [
      "[1, 2, 3]\n",
      "<class 'list'>\n"
     ]
    }
   ],
   "source": [
    "##converting tuple to list\n",
    "num_3=list(num)\n",
    "print(num_3)\n",
    "print(type(num_3))"
   ]
  },
  {
   "cell_type": "code",
   "execution_count": 46,
   "id": "6a587da0",
   "metadata": {},
   "outputs": [
    {
     "name": "stdout",
     "output_type": "stream",
     "text": [
      "(2, 3, 4, 5, 6, 2, 3, 7, 9, 4, 6, 2, 2, 8, 5)\n",
      "4\n"
     ]
    }
   ],
   "source": [
    "num_4 =(2,3,4,5,6,2,3,7,9,4,6,2,2,8,5)\n",
    "print(num_4)\n",
    "print(num_4.count(2))"
   ]
  },
  {
   "cell_type": "code",
   "execution_count": 47,
   "id": "9383e586",
   "metadata": {},
   "outputs": [
    {
     "name": "stdout",
     "output_type": "stream",
     "text": [
      "2\n",
      "3\n",
      "[4, 5, 6, 2, 3, 7, 9, 4, 6, 2, 2, 8, 5]\n"
     ]
    }
   ],
   "source": [
    "a,b,*c = num_4 \n",
    "print(a)\n",
    "print(b)\n",
    "print(c)"
   ]
  },
  {
   "cell_type": "code",
   "execution_count": 51,
   "id": "1a37a7d3",
   "metadata": {},
   "outputs": [
    {
     "name": "stdout",
     "output_type": "stream",
     "text": [
      "(12, 'cow', 15.0)\n"
     ]
    }
   ],
   "source": [
    "##tuple with different data types\n",
    "data_types = (12,'cow',15.0,)\n",
    "print(data_types)"
   ]
  },
  {
   "cell_type": "code",
   "execution_count": 52,
   "id": "f0b66fba",
   "metadata": {},
   "outputs": [
    {
     "name": "stdout",
     "output_type": "stream",
     "text": [
      "True\n"
     ]
    }
   ],
   "source": [
    "print(8 in num_4)"
   ]
  },
  {
   "cell_type": "code",
   "execution_count": 53,
   "id": "52783e73",
   "metadata": {},
   "outputs": [
    {
     "name": "stdout",
     "output_type": "stream",
     "text": [
      "15\n"
     ]
    }
   ],
   "source": [
    "print(len(num_4))"
   ]
  },
  {
   "cell_type": "code",
   "execution_count": 55,
   "id": "f55c2ede",
   "metadata": {},
   "outputs": [
    {
     "name": "stdout",
     "output_type": "stream",
     "text": [
      "{'name': 'john doe', 'age': 25, 'city': 'fct abuja'}\n"
     ]
    }
   ],
   "source": [
    "##dictionary\n",
    "johns_profile = {\n",
    "    'name':'john doe',\n",
    "    'age':25,\n",
    "    'city':'fct abuja'\n",
    "}\n",
    "print(johns_profile)"
   ]
  },
  {
   "cell_type": "code",
   "execution_count": 57,
   "id": "9fe542b9",
   "metadata": {},
   "outputs": [
    {
     "name": "stdout",
     "output_type": "stream",
     "text": [
      "{'name': 'john doe', 'age': 25, 'city': 'fct abuja', 'status': 'single', 'relationship status': 'single'}\n"
     ]
    }
   ],
   "source": [
    "johns_profile['relationship status']='single'\n",
    "print(johns_profile)"
   ]
  },
  {
   "cell_type": "code",
   "execution_count": 58,
   "id": "7b6d3442",
   "metadata": {},
   "outputs": [
    {
     "name": "stdout",
     "output_type": "stream",
     "text": [
      "single\n"
     ]
    }
   ],
   "source": [
    "print(johns_profile['relationship status'])"
   ]
  },
  {
   "cell_type": "code",
   "execution_count": 60,
   "id": "24195fd6",
   "metadata": {},
   "outputs": [
    {
     "name": "stdout",
     "output_type": "stream",
     "text": [
      "{'mango': 8, 'banana': 6, 'pineapple': 11, 'pear': 4, 'avocado': 5}\n"
     ]
    }
   ],
   "source": [
    "fruit_names = {\n",
    "    'mango':8,\n",
    "    'banana':6,\n",
    "    'pineapple':11,\n",
    "    'pear':4,\n",
    "    'avocado':5\n",
    "}\n",
    "print(fruit_names)"
   ]
  },
  {
   "cell_type": "code",
   "execution_count": 64,
   "id": "f5029ef5",
   "metadata": {},
   "outputs": [
    {
     "name": "stdout",
     "output_type": "stream",
     "text": [
      "the mango is 8\n",
      "the banana is 6\n",
      "the pineapple is 11\n",
      "the pear is 4\n",
      "the avocado is 5\n"
     ]
    }
   ],
   "source": [
    "##iterating a dictionary using ##zip() \n",
    "for food,num_6 in zip(fruit_names.keys(),fruit_names.values()):\n",
    "    print(f'the {food} is {num_6}')"
   ]
  },
  {
   "cell_type": "code",
   "execution_count": 65,
   "id": "fb2aef82",
   "metadata": {},
   "outputs": [
    {
     "name": "stdout",
     "output_type": "stream",
     "text": [
      "exist\n"
     ]
    }
   ],
   "source": [
    "if 'pear' in fruit_names:\n",
    "    print('exist')\n",
    "else:\n",
    "    print('does not exist')"
   ]
  },
  {
   "cell_type": "code",
   "execution_count": 66,
   "id": "1091c7ea",
   "metadata": {},
   "outputs": [],
   "source": [
    "##dictionaries are not allowed to have duplicate keys because each key uniquely defines a value"
   ]
  },
  {
   "cell_type": "code",
   "execution_count": 67,
   "id": "7dc41390",
   "metadata": {},
   "outputs": [
    {
     "name": "stdout",
     "output_type": "stream",
     "text": [
      "{'cherry': 4, 'apple': 7}\n"
     ]
    }
   ],
   "source": [
    "fruit_names_2 = {\n",
    "    'cherry':4,\n",
    "    'apple':7\n",
    "}\n",
    "print(fruit_names_2)"
   ]
  },
  {
   "cell_type": "code",
   "execution_count": 68,
   "id": "75a0be2e",
   "metadata": {},
   "outputs": [
    {
     "name": "stdout",
     "output_type": "stream",
     "text": [
      "{'mango': 8, 'banana': 6, 'pineapple': 11, 'pear': 4, 'avocado': 5, 'cherry': 4, 'apple': 7}\n"
     ]
    }
   ],
   "source": [
    "fruit_names.update(fruit_names_2)\n",
    "print(fruit_names)"
   ]
  },
  {
   "cell_type": "code",
   "execution_count": 69,
   "id": "d2d508ec",
   "metadata": {},
   "outputs": [
    {
     "name": "stdout",
     "output_type": "stream",
     "text": [
      "{'chuks': {'age': 29, 'kids': 3, 'job': 'banker'}, 'fred': {'age': 30, 'kids': 2, 'job': 'lecturer'}, 'benji': {'age': 24, 'kids': 4, 'job': 'analyst'}}\n"
     ]
    }
   ],
   "source": [
    "friends = {\n",
    "    'chuks':{'age':29,'kids':3,'job':'banker'},\n",
    "    'fred':{'age':30,'kids':2,'job':'lecturer'},\n",
    "    'benji':{'age':24,'kids':4, 'job':'analyst'}\n",
    "}\n",
    "print(friends)"
   ]
  },
  {
   "cell_type": "code",
   "execution_count": 70,
   "id": "6e3c774d",
   "metadata": {},
   "outputs": [
    {
     "name": "stdout",
     "output_type": "stream",
     "text": [
      "2\n"
     ]
    }
   ],
   "source": [
    "##accessing deep value in a nested disctionary\n",
    "print(friends['fred']['kids'])"
   ]
  },
  {
   "cell_type": "code",
   "execution_count": 71,
   "id": "1ae9e469",
   "metadata": {},
   "outputs": [
    {
     "name": "stdout",
     "output_type": "stream",
     "text": [
      "{'mango': 8, 'banana': 6, 'pineapple': 11, 'pear': 4, 'avocado': 5, 'cherry': 4}\n"
     ]
    }
   ],
   "source": [
    "fruit_names.pop('apple')\n",
    "print(fruit_names)"
   ]
  },
  {
   "cell_type": "code",
   "execution_count": 72,
   "id": "1dbb7587",
   "metadata": {},
   "outputs": [
    {
     "ename": "KeyError",
     "evalue": "'almond'",
     "output_type": "error",
     "traceback": [
      "\u001b[1;31m---------------------------------------------------------------------------\u001b[0m",
      "\u001b[1;31mKeyError\u001b[0m                                  Traceback (most recent call last)",
      "Cell \u001b[1;32mIn[72], line 2\u001b[0m\n\u001b[0;32m      1\u001b[0m \u001b[38;5;66;03m##python keyerror is raised when accessing key that doesnt exist\u001b[39;00m\n\u001b[1;32m----> 2\u001b[0m \u001b[38;5;28mprint\u001b[39m(fruit_names[\u001b[38;5;124m'\u001b[39m\u001b[38;5;124malmond\u001b[39m\u001b[38;5;124m'\u001b[39m])\n",
      "\u001b[1;31mKeyError\u001b[0m: 'almond'"
     ]
    }
   ],
   "source": [
    "##python keyerror is raised when accessing key that doesnt exist\n",
    "print(fruit_names['almond'])"
   ]
  },
  {
   "cell_type": "code",
   "execution_count": null,
   "id": "2c84d807",
   "metadata": {},
   "outputs": [],
   "source": []
  }
 ],
 "metadata": {
  "kernelspec": {
   "display_name": "Python 3 (ipykernel)",
   "language": "python",
   "name": "python3"
  },
  "language_info": {
   "codemirror_mode": {
    "name": "ipython",
    "version": 3
   },
   "file_extension": ".py",
   "mimetype": "text/x-python",
   "name": "python",
   "nbconvert_exporter": "python",
   "pygments_lexer": "ipython3",
   "version": "3.11.5"
  }
 },
 "nbformat": 4,
 "nbformat_minor": 5
}
