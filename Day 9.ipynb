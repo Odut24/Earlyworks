{
 "cells": [
  {
   "cell_type": "code",
   "execution_count": 2,
   "id": "bf9e0fc4",
   "metadata": {},
   "outputs": [],
   "source": [
    "Land_cost = (\"\")\n",
    "material_cost = (\"\") \n",
    "labour_cost = (\"\")\n",
    "other_expenses = (\"\")\n",
    "\n",
    "def calculator():\n",
    "    land_cost = int(input('HOW MUCH DOES THE LAND COST:'))\n",
    "    material_cost = int(input('HOW MUCH DOES THE MATERIALS COST:'))\n",
    "    labour_cost = int(input('WHAT IS THE TOTAL LABOUR COST:'))\n",
    "    other_expenses = int(input('COST OF OTHER EXPENSES: '))\n",
    "    estimated_expenses = (land_cost + material_cost + labour_cost + other_expenses)\n",
    "    print(f' your total building expenses is {estimated_expenses}')"
   ]
  },
  {
   "cell_type": "code",
   "execution_count": 3,
   "id": "3e90ea08",
   "metadata": {},
   "outputs": [
    {
     "name": "stdout",
     "output_type": "stream",
     "text": [
      "HOW MUCH DOES THE LAND COST:20000\n",
      "HOW MUCH DOES THE MATERIALS COST:30000\n",
      "WHAT IS THE TOTAL LABOUR COST:45000\n",
      "COST OF OTHER EXPENSES: 9800\n",
      " your total building expenses is 104800\n"
     ]
    }
   ],
   "source": [
    "calculator()"
   ]
  },
  {
   "cell_type": "code",
   "execution_count": 5,
   "id": "08f2eb16",
   "metadata": {},
   "outputs": [
    {
     "name": "stdout",
     "output_type": "stream",
     "text": [
      "Enter first number:23\n",
      "Enter second number:4\n",
      "choose operation option [+,-,*,/]:/\n",
      "23 / 4 = 5.75\n"
     ]
    }
   ],
   "source": [
    "## error handling\n",
    "##try: test the block codes for any potential error\n",
    "##except: returns the kind of error encounted by the try block\n",
    "##else: depends on the try block \n",
    "##finally: always executes regardless of any exception or not\n",
    "\n",
    "try:\n",
    "    num1 = int(input('Enter first number:'))\n",
    "    num2 = int(input('Enter second number:'))\n",
    "    option = input('choose operation option [+,-,*,/]:')\n",
    "    if option == '+':\n",
    "        print(f'{num1} + {num2} = {num1 + num2}')\n",
    "    elif option == '-':\n",
    "        print(f'{num1} - {num2} = {num1 - num2}')\n",
    "    elif option == '*':\n",
    "        print(f'{num1} * {num2} = {num1 * num2}')\n",
    "    elif option == '/':\n",
    "        print(f'{num1} / {num2} = {num1 / num2}')\n",
    "except:\n",
    "    print('you have encountered one or more errors')\n",
    "    "
   ]
  },
  {
   "cell_type": "code",
   "execution_count": 8,
   "id": "e24f98e1",
   "metadata": {},
   "outputs": [
    {
     "name": "stdout",
     "output_type": "stream",
     "text": [
      "Enter first number:23\n",
      "Enter second number:34\n",
      "choose operation option [+,-,*,/]:/\n",
      "23 / 34 = 0.6764705882352942\n",
      "END OF PROGRAM\n"
     ]
    }
   ],
   "source": [
    "try:\n",
    "    num1 = int(input('Enter first number:'))\n",
    "    num2 = int(input('Enter second number:'))\n",
    "    option = input('choose operation option [+,-,*,/]:')\n",
    "    if option == '+':\n",
    "        print(f'{num1} + {num2} = {num1 + num2}')\n",
    "    elif option == '-':\n",
    "        print(f'{num1} - {num2} = {num1 - num2}')\n",
    "    elif option == '*':\n",
    "        print(f'{num1} * {num2} = {num1 * num2}')\n",
    "    elif option == '/':\n",
    "        print(f'{num1} / {num2} = {num1 / num2}')\n",
    "except ValueError:\n",
    "    print('wrong value for first or second number, whole number is expected')\n",
    "except ZeroDivisionError:\n",
    "    print('sorry you cannot divide by zero')\n",
    "except:\n",
    "    print('you have encountered one or more errors')\n",
    "finally:\n",
    "    print('END OF PROGRAM')\n",
    "    "
   ]
  },
  {
   "cell_type": "code",
   "execution_count": 3,
   "id": "f8f7c423",
   "metadata": {},
   "outputs": [
    {
     "name": "stdout",
     "output_type": "stream",
     "text": [
      "WELCOME TO DAMI REAL ESTATE CALCULATOR\n",
      "enter the cost of the land: N15000000\n",
      "enter total area in per square meter:23\n",
      "enter cost per meter square for the building:13000\n",
      "enter the percenstage of total cost for materials:30\n",
      "enter the persentage of totsl cost for labour:25\n",
      "__________ESTIMATION RESULT____________\n",
      "YOUR TOTAL LAND COST IS: N15000000.00\n",
      "YOUR TOTAL CONSTRUCTION COST IS: N299000.00\n",
      "YOUR TOTAL MATERIAL COST AT 30.0: N89700.00\n",
      "YOUR TOTAL LABOUR COST AT25.0: N74750.00\n",
      "TOTAL ESTIMATE OF YOUR BUILDING IS: N15463450.00\n"
     ]
    }
   ],
   "source": [
    "def building_estimation_calculator():\n",
    "    print('WELCOME TO DAMI REAL ESTATE CALCULATOR')\n",
    "    try:\n",
    "        land_cost = float(input('enter the cost of the land: N'))\n",
    "        building_area = float(input('enter total area in per square meter:'))\n",
    "        cost_per_meter_square = float(input('enter cost per meter square for the building:'))\n",
    "        material_cost_per = float(input('enter the percenstage of total cost for materials:'))\n",
    "        labor_cost_per = float(input('enter the persentage of totsl cost for labour:'))\n",
    "    except ValueError:\n",
    "          print('enter valid numbers')\n",
    "    else:\n",
    "          construction_cost = cost_per_meter_square * building_area\n",
    "          material_cost = (material_cost_per/100)* construction_cost\n",
    "          labor_cost = (labor_cost_per/100)* construction_cost\n",
    "          total_cost = land_cost + construction_cost + material_cost + labor_cost\n",
    "    finally:\n",
    "          print('__________ESTIMATION RESULT____________')\n",
    "          print(f'YOUR TOTAL LAND COST IS: N{land_cost:.2f}')\n",
    "          print(f'YOUR TOTAL CONSTRUCTION COST IS: N{construction_cost:.2f}')\n",
    "          print(f'YOUR TOTAL MATERIAL COST AT {material_cost_per}: N{material_cost:.2f}')\n",
    "          print(f'YOUR TOTAL LABOUR COST AT{labor_cost_per}: N{labor_cost:.2f}')\n",
    "          print(f'TOTAL ESTIMATE OF YOUR BUILDING IS: N{total_cost:.2f}')\n",
    "building_estimation_calculator()"
   ]
  },
  {
   "cell_type": "code",
   "execution_count": null,
   "id": "4393d581",
   "metadata": {},
   "outputs": [],
   "source": []
  }
 ],
 "metadata": {
  "kernelspec": {
   "display_name": "Python 3 (ipykernel)",
   "language": "python",
   "name": "python3"
  },
  "language_info": {
   "codemirror_mode": {
    "name": "ipython",
    "version": 3
   },
   "file_extension": ".py",
   "mimetype": "text/x-python",
   "name": "python",
   "nbconvert_exporter": "python",
   "pygments_lexer": "ipython3",
   "version": "3.11.5"
  }
 },
 "nbformat": 4,
 "nbformat_minor": 5
}
