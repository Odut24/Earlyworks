{
 "cells": [
  {
   "cell_type": "code",
   "execution_count": 1,
   "id": "f9958fae",
   "metadata": {},
   "outputs": [
    {
     "name": "stdout",
     "output_type": "stream",
     "text": [
      "ppp\n",
      "yyy\n",
      "ttt\n",
      "hhh\n",
      "ooo\n",
      "nnn\n"
     ]
    }
   ],
   "source": [
    "##loop \n",
    "##for loop\n",
    "word = 'python'\n",
    "for char in word:\n",
    "    print(char*3)"
   ]
  },
  {
   "cell_type": "code",
   "execution_count": 5,
   "id": "1ebe57eb",
   "metadata": {},
   "outputs": [
    {
     "name": "stdout",
     "output_type": "stream",
     "text": [
      "ppp/yyy/ttt/hhh/ooo/nnn/"
     ]
    }
   ],
   "source": [
    "word = 'python'\n",
    "for char in word:\n",
    "    print(char*3,end='/')"
   ]
  },
  {
   "cell_type": "code",
   "execution_count": 10,
   "id": "2e588404",
   "metadata": {},
   "outputs": [
    {
     "name": "stdout",
     "output_type": "stream",
     "text": [
      "hey tope, this is a reminder of our meeting on friday,12pm\n",
      "hey bola, this is a reminder of our meeting on friday,12pm\n",
      "hey fortune, this is a reminder of our meeting on friday,12pm\n",
      "hey bimbo, this is a reminder of our meeting on friday,12pm\n",
      "hey ope, this is a reminder of our meeting on friday,12pm\n"
     ]
    }
   ],
   "source": [
    "##have a list of five friends\n",
    "## hey {name}, this is a reminder of our meeting on friday , 12pm\n",
    "\n",
    "friends = ['tope','bola','fortune','bimbo','ope']\n",
    "for name in friends:\n",
    "   print(f'hey {name}, this is a reminder of our meeting on friday,12pm')"
   ]
  },
  {
   "cell_type": "code",
   "execution_count": 11,
   "id": "497eb9bc",
   "metadata": {},
   "outputs": [],
   "source": [
    "##write a program to check if an item is in stock and calculate the total cost of items in the shopping cart"
   ]
  },
  {
   "cell_type": "code",
   "execution_count": 23,
   "id": "a3e388fc",
   "metadata": {},
   "outputs": [
    {
     "name": "stdout",
     "output_type": "stream",
     "text": [
      "the total cost of items in the cart is N51000.0\n"
     ]
    }
   ],
   "source": [
    "products = {\n",
    "    'item1':{'name':'big burger','price':3000.00, 'stock':30},\n",
    "    'item2':{'name':'small burger','price':1500.00, 'stock':60},\n",
    "    'item3':{'name':'chicken burger','price':900.00, 'stock':100},\n",
    "}\n",
    "cart = []\n",
    "totalcost = 0\n",
    "cart.append(('item1',5))\n",
    "cart.append(('item2',15))\n",
    "cart.append(('item3',15))\n",
    "for item in cart:\n",
    "    id,quantity = item\n",
    "    if id in products and products[id]['stock'] >= quantity:\n",
    "        totalcost += products[id]['price'] * quantity\n",
    "    ##totalcost = total cost + product[id]['price'] * quantity\n",
    "    else:\n",
    "        print('product out of stock')\n",
    "if totalcost > 0:\n",
    "    print(f'the total cost of items in the cart is N{totalcost}')\n",
    "else:\n",
    "    print('no item in the cart')\n",
    "    "
   ]
  },
  {
   "cell_type": "code",
   "execution_count": 27,
   "id": "6717ef48",
   "metadata": {},
   "outputs": [
    {
     "name": "stdout",
     "output_type": "stream",
     "text": [
      "Enter A Number:2323\n",
      "The sqrt of 2323 is 48.19751030914356\n",
      "Enter A number:3434\n",
      "The sqrt of 3434 is 58.60034129593445\n",
      "Enter A number:343\n",
      "The sqrt of 343 is 18.520259177452136\n",
      "Enter A number:54\n",
      "The sqrt of 54 is 7.3484692283495345\n",
      "Enter A number:4656\n",
      "The sqrt of 4656 is 68.23488843692792\n",
      "Enter A number:0\n"
     ]
    }
   ],
   "source": [
    "##while loop\n",
    "usernumber = int(input('Enter A Number:'))\n",
    "import math\n",
    "counter = 0\n",
    "while usernumber != 0:\n",
    "    print(f'The sqrt of {usernumber} is {math.sqrt(usernumber)}')\n",
    "    counter +=1 \n",
    "    usernumber = int(input('Enter A number:'))\n",
    "    "
   ]
  },
  {
   "cell_type": "code",
   "execution_count": 28,
   "id": "0c4ef654",
   "metadata": {},
   "outputs": [
    {
     "name": "stdout",
     "output_type": "stream",
     "text": [
      "Enter your Username:rjf\n",
      "Enter your password:f\n",
      "login failed\n",
      "Enter your Username:rfg\n",
      "Enter your password:gr\n",
      "login failed\n",
      "Enter your Username:rgr\n",
      "Enter your password:rtr\n",
      "login failed\n",
      "maximum login reached, account blocked\n"
     ]
    }
   ],
   "source": [
    "## write a simple authentication system that checks a user's credentials to allow maximum attempt of 3 times login\n",
    "max_amount = 3\n",
    "login_attempt = 0\n",
    "correctusername = 'opeyemi'\n",
    "correctpassword = 'password'\n",
    "while login_attempt < max_amount:\n",
    "    username = input('Enter your Username:')\n",
    "    password = input('Enter your password:')\n",
    "    if username == correctusername and password == correctpassword:\n",
    "        print('Access Granted......')\n",
    "        break\n",
    "    else:\n",
    "        print('login failed')\n",
    "        login_attempt += 1\n",
    "    if login_attempt == max_amount:\n",
    "        print('maximum login reached, account blocked')\n",
    "    "
   ]
  },
  {
   "cell_type": "code",
   "execution_count": 31,
   "id": "eadac5fd",
   "metadata": {},
   "outputs": [
    {
     "name": "stdout",
     "output_type": "stream",
     "text": [
      "Enter A Numer:2\n",
      "2 x 1 = 2\n",
      "2 x 2 = 4\n",
      "2 x 3 = 6\n",
      "2 x 4 = 8\n",
      "2 x 5 = 10\n",
      "2 x 6 = 12\n",
      "2 x 7 = 14\n",
      "2 x 8 = 16\n",
      "2 x 9 = 18\n",
      "2 x 10 = 20\n",
      "2 x 11 = 22\n",
      "2 x 12 = 24\n"
     ]
    }
   ],
   "source": [
    "##use a while loop to generate a timetable from 1 to 12 with a user's number\n",
    "usernumber = int(input('Enter A Numer:'))\n",
    "counter = 1\n",
    "while counter <=12:\n",
    "    print(f'{usernumber} x {counter} = {usernumber*counter}')\n",
    "    counter +=1"
   ]
  },
  {
   "cell_type": "code",
   "execution_count": null,
   "id": "52cbe1ab",
   "metadata": {},
   "outputs": [],
   "source": []
  }
 ],
 "metadata": {
  "kernelspec": {
   "display_name": "Python 3 (ipykernel)",
   "language": "python",
   "name": "python3"
  },
  "language_info": {
   "codemirror_mode": {
    "name": "ipython",
    "version": 3
   },
   "file_extension": ".py",
   "mimetype": "text/x-python",
   "name": "python",
   "nbconvert_exporter": "python",
   "pygments_lexer": "ipython3",
   "version": "3.11.5"
  }
 },
 "nbformat": 4,
 "nbformat_minor": 5
}
