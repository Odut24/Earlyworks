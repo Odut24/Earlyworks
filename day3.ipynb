{
 "cells": [
  {
   "cell_type": "code",
   "execution_count": 1,
   "id": "eebc5446",
   "metadata": {},
   "outputs": [],
   "source": [
    "##tuple its unchangeable\n",
    "##tuple must be ordered\n",
    "##tuple is denoted with ()\n",
    "##tuple ia an advanced data type that we can assign to a variable\n",
    "##indexing in python start with 0 from the front and -1 from the back\n",
    "##count function counts the number of occurence in a tuple\n",
    "##index checks the location of a value in a tuple\n",
    "##list is the 2nd iterable object but the difference is that it can be changed"
   ]
  },
  {
   "cell_type": "code",
   "execution_count": 2,
   "id": "48e60065",
   "metadata": {},
   "outputs": [],
   "source": [
    "number = (14,15,65,60,23,25,85,60,45)"
   ]
  },
  {
   "cell_type": "code",
   "execution_count": 4,
   "id": "dc7d6fcf",
   "metadata": {},
   "outputs": [
    {
     "name": "stdout",
     "output_type": "stream",
     "text": [
      "<class 'tuple'>\n"
     ]
    }
   ],
   "source": [
    "print(type(number))"
   ]
  },
  {
   "cell_type": "code",
   "execution_count": 5,
   "id": "b1aaa69c",
   "metadata": {},
   "outputs": [
    {
     "name": "stdout",
     "output_type": "stream",
     "text": [
      "9\n"
     ]
    }
   ],
   "source": [
    "print(len(number))"
   ]
  },
  {
   "cell_type": "code",
   "execution_count": 7,
   "id": "1409a76e",
   "metadata": {},
   "outputs": [
    {
     "name": "stdout",
     "output_type": "stream",
     "text": [
      "25\n"
     ]
    }
   ],
   "source": [
    "print(number[5])"
   ]
  },
  {
   "cell_type": "code",
   "execution_count": 10,
   "id": "d1a5eb60",
   "metadata": {},
   "outputs": [
    {
     "name": "stdout",
     "output_type": "stream",
     "text": [
      "25\n"
     ]
    }
   ],
   "source": [
    "print(number[-4])"
   ]
  },
  {
   "cell_type": "code",
   "execution_count": 13,
   "id": "ad05bede",
   "metadata": {},
   "outputs": [
    {
     "name": "stdout",
     "output_type": "stream",
     "text": [
      "(65, 60, 23, 25, 85)\n"
     ]
    }
   ],
   "source": [
    "print(number[2:7])"
   ]
  },
  {
   "cell_type": "code",
   "execution_count": 14,
   "id": "aa25ded9",
   "metadata": {},
   "outputs": [
    {
     "name": "stdout",
     "output_type": "stream",
     "text": [
      "False\n"
     ]
    }
   ],
   "source": [
    "print(100 in number)"
   ]
  },
  {
   "cell_type": "code",
   "execution_count": 15,
   "id": "d53922d5",
   "metadata": {},
   "outputs": [
    {
     "name": "stdout",
     "output_type": "stream",
     "text": [
      "2\n"
     ]
    }
   ],
   "source": [
    "print(number.count(60))"
   ]
  },
  {
   "cell_type": "code",
   "execution_count": 18,
   "id": "291804f7",
   "metadata": {},
   "outputs": [
    {
     "name": "stdout",
     "output_type": "stream",
     "text": [
      "6\n"
     ]
    }
   ],
   "source": [
    "print(number.index(85))"
   ]
  },
  {
   "cell_type": "code",
   "execution_count": 19,
   "id": "693f4677",
   "metadata": {},
   "outputs": [],
   "source": [
    "##list is denoted with a [] instead of a ()\n"
   ]
  },
  {
   "cell_type": "code",
   "execution_count": 20,
   "id": "a5ca1476",
   "metadata": {},
   "outputs": [],
   "source": [
    "shopA= ['Apple','Bucket','Strawberry','Lemon','Banana']"
   ]
  },
  {
   "cell_type": "code",
   "execution_count": 21,
   "id": "c9168d51",
   "metadata": {},
   "outputs": [],
   "source": [
    "##add a new value to my list using append function at d end of the list"
   ]
  },
  {
   "cell_type": "code",
   "execution_count": 22,
   "id": "eb5b0d22",
   "metadata": {},
   "outputs": [
    {
     "name": "stdout",
     "output_type": "stream",
     "text": [
      "['Apple', 'Bucket', 'Strawberry', 'Lemon', 'Banana', 'Orange']\n"
     ]
    }
   ],
   "source": [
    "shopA.append('Orange')\n",
    "print(shopA)"
   ]
  },
  {
   "cell_type": "code",
   "execution_count": 23,
   "id": "75b3858b",
   "metadata": {},
   "outputs": [
    {
     "name": "stdout",
     "output_type": "stream",
     "text": [
      "['Apple', 'Bucket', 'Strawberry', 'Lemon', 'Banana', 'Orange', 'Lime']\n"
     ]
    }
   ],
   "source": [
    "shopA.append('Lime')\n",
    "print(shopA)"
   ]
  },
  {
   "cell_type": "code",
   "execution_count": 24,
   "id": "2e074a4f",
   "metadata": {},
   "outputs": [
    {
     "name": "stdout",
     "output_type": "stream",
     "text": [
      "['Apple', 'Bucket', 'Strawberry', 'Lemon', 'Banana', 'Orange', 'Lime', 'Avocado']\n"
     ]
    }
   ],
   "source": [
    "shopA.append('Avocado')\n",
    "print(shopA)"
   ]
  },
  {
   "cell_type": "code",
   "execution_count": 25,
   "id": "547be28d",
   "metadata": {},
   "outputs": [],
   "source": [
    "##insert function specifies intended location "
   ]
  },
  {
   "cell_type": "code",
   "execution_count": 28,
   "id": "1c7c9d66",
   "metadata": {},
   "outputs": [
    {
     "name": "stdout",
     "output_type": "stream",
     "text": [
      "['Apple', 'Bucket', 'Plantain', 'Plantain', 'Plantain', 'Strawberry', 'Lemon', 'Banana', 'Orange', 'Lime', 'Avocado']\n"
     ]
    }
   ],
   "source": [
    "shopA.insert(2,'Plantain')\n",
    "print(shopA)"
   ]
  },
  {
   "cell_type": "code",
   "execution_count": 29,
   "id": "5febfc6d",
   "metadata": {},
   "outputs": [
    {
     "name": "stdout",
     "output_type": "stream",
     "text": [
      "['Apple', 'Bucket', 'Plantain', 'Maize', 'Plantain', 'Plantain', 'Strawberry', 'Lemon', 'Banana', 'Orange', 'Lime', 'Avocado']\n"
     ]
    }
   ],
   "source": [
    "shopA.insert(3,'Maize')\n",
    "print(shopA)"
   ]
  },
  {
   "cell_type": "code",
   "execution_count": 30,
   "id": "460b05a3",
   "metadata": {},
   "outputs": [],
   "source": [
    "##extend moving a list to another list"
   ]
  },
  {
   "cell_type": "code",
   "execution_count": 31,
   "id": "99d87819",
   "metadata": {},
   "outputs": [
    {
     "name": "stdout",
     "output_type": "stream",
     "text": [
      "['Apple', 'Bucket', 'Plantain', 'Maize', 'Plantain', 'Plantain', 'Strawberry', 'Lemon', 'Banana', 'Orange', 'Lime', 'Avocado', 'Goat', 'Cow', 'Dog']\n"
     ]
    }
   ],
   "source": [
    "shopB= ['Goat','Cow','Dog']\n",
    "shopA.extend(shopB)\n",
    "print(shopA)"
   ]
  },
  {
   "cell_type": "code",
   "execution_count": 32,
   "id": "91190791",
   "metadata": {},
   "outputs": [],
   "source": [
    "##pop and remove"
   ]
  },
  {
   "cell_type": "code",
   "execution_count": 33,
   "id": "122c5124",
   "metadata": {},
   "outputs": [
    {
     "name": "stdout",
     "output_type": "stream",
     "text": [
      "['Apple', 'Bucket', 'Plantain', 'Plantain', 'Plantain', 'Strawberry', 'Lemon', 'Banana', 'Orange', 'Lime', 'Avocado', 'Goat', 'Cow', 'Dog']\n"
     ]
    }
   ],
   "source": [
    "shopA.pop(3)\n",
    "print(shopA)"
   ]
  },
  {
   "cell_type": "code",
   "execution_count": 38,
   "id": "1fd0d7cc",
   "metadata": {},
   "outputs": [
    {
     "name": "stdout",
     "output_type": "stream",
     "text": [
      "['Apple', 'Bucket', 'Plantain', 'Plantain', 'Strawberry', 'Lemon', 'Banana', 'Orange', 'Lime', 'Avocado', 'Goat', 'Cow', 'Dog']\n"
     ]
    }
   ],
   "source": [
    "shopA.remove('Plantain')\n",
    "print(shopA)"
   ]
  },
  {
   "cell_type": "code",
   "execution_count": 39,
   "id": "67c2f83d",
   "metadata": {},
   "outputs": [],
   "source": [
    "##sort function is to arrange value in ascending order"
   ]
  },
  {
   "cell_type": "code",
   "execution_count": 40,
   "id": "b9d49229",
   "metadata": {},
   "outputs": [
    {
     "name": "stdout",
     "output_type": "stream",
     "text": [
      "['Apple', 'Avocado', 'Banana', 'Bucket', 'Cow', 'Dog', 'Goat', 'Lemon', 'Lime', 'Orange', 'Plantain', 'Plantain', 'Strawberry']\n"
     ]
    }
   ],
   "source": [
    "shopA.sort()\n",
    "print(shopA)"
   ]
  },
  {
   "cell_type": "code",
   "execution_count": 41,
   "id": "7bb0741a",
   "metadata": {},
   "outputs": [],
   "source": [
    "##reverse arranges in descending order"
   ]
  },
  {
   "cell_type": "code",
   "execution_count": 42,
   "id": "32165689",
   "metadata": {},
   "outputs": [
    {
     "name": "stdout",
     "output_type": "stream",
     "text": [
      "['Strawberry', 'Plantain', 'Plantain', 'Orange', 'Lime', 'Lemon', 'Goat', 'Dog', 'Cow', 'Bucket', 'Banana', 'Avocado', 'Apple']\n"
     ]
    }
   ],
   "source": [
    "shopA.reverse()\n",
    "print(shopA)"
   ]
  },
  {
   "cell_type": "code",
   "execution_count": 43,
   "id": "235ad813",
   "metadata": {},
   "outputs": [
    {
     "name": "stdout",
     "output_type": "stream",
     "text": [
      "['Strawberry', 'Plantain', 'Plantain', 'Orange', 'Lime', 'Lemon', 'Goat', 'Dog', 'Cow', 'Bucket', 'Banana', 'Avocado', 'Apple']\n"
     ]
    }
   ],
   "source": [
    "##copy,clear and delete are functions left\n",
    "##copy makes a duplicate of my list\n",
    "shopC = shopA.copy()\n",
    "print(shopC) "
   ]
  },
  {
   "cell_type": "code",
   "execution_count": 44,
   "id": "8ddad571",
   "metadata": {},
   "outputs": [
    {
     "name": "stdout",
     "output_type": "stream",
     "text": [
      "[]\n"
     ]
    }
   ],
   "source": [
    "##clear empties the values in the \n",
    "shopC.clear()\n",
    "print(shopC)"
   ]
  },
  {
   "cell_type": "code",
   "execution_count": 45,
   "id": "059dadc6",
   "metadata": {},
   "outputs": [
    {
     "ename": "NameError",
     "evalue": "name 'shopC' is not defined",
     "output_type": "error",
     "traceback": [
      "\u001b[1;31m---------------------------------------------------------------------------\u001b[0m",
      "\u001b[1;31mNameError\u001b[0m                                 Traceback (most recent call last)",
      "Cell \u001b[1;32mIn[45], line 3\u001b[0m\n\u001b[0;32m      1\u001b[0m \u001b[38;5;66;03m##delete \u001b[39;00m\n\u001b[0;32m      2\u001b[0m \u001b[38;5;28;01mdel\u001b[39;00m(shopC)\n\u001b[1;32m----> 3\u001b[0m \u001b[38;5;28mprint\u001b[39m(shopC)\n",
      "\u001b[1;31mNameError\u001b[0m: name 'shopC' is not defined"
     ]
    }
   ],
   "source": [
    "##delete \n",
    "del(shopC)\n",
    "print(shopC)"
   ]
  },
  {
   "cell_type": "code",
   "execution_count": 46,
   "id": "da6a648c",
   "metadata": {},
   "outputs": [],
   "source": [
    "##dictionary is our last iterable object for today, we use a coli bracket for dictionary\n",
    "##must create with a pair of key and values"
   ]
  },
  {
   "cell_type": "code",
   "execution_count": 51,
   "id": "ad3b2023",
   "metadata": {},
   "outputs": [
    {
     "name": "stdout",
     "output_type": "stream",
     "text": [
      "1.56\n"
     ]
    }
   ],
   "source": [
    "records = {\n",
    "    'Name':'Fatima',\n",
    "    'Age':45,\n",
    "    'Gender':'Female',\n",
    "    'Height':1.56,\n",
    "    'Weight':60.5\n",
    "}\n",
    "print(records['Height'])"
   ]
  },
  {
   "cell_type": "raw",
   "id": "a6aa66e5",
   "metadata": {},
   "source": [
    "records['Address'] = 'No 25 Highway Street'\n",
    "print(records)"
   ]
  },
  {
   "cell_type": "code",
   "execution_count": 52,
   "id": "40ab0f23",
   "metadata": {},
   "outputs": [
    {
     "name": "stdout",
     "output_type": "stream",
     "text": [
      "{'Name': 'Fatima', 'Age': 45, 'Gender': 'Female', 'Height': 1.56, 'Weight': 60.5, 'Address': 'No 25 Highway Street'}\n"
     ]
    }
   ],
   "source": [
    "records['Address'] = 'No 25 Highway Street'\n",
    "print(records)"
   ]
  },
  {
   "cell_type": "code",
   "execution_count": 53,
   "id": "b990eb8b",
   "metadata": {},
   "outputs": [
    {
     "name": "stdout",
     "output_type": "stream",
     "text": [
      "{'Name': 'Fatima', 'Age': 45, 'Gender': 'Female', 'Height': 1.66, 'Weight': 60.5, 'Address': 'No 25 Highway Street'}\n"
     ]
    }
   ],
   "source": [
    "newval = {'Height':1.66}\n",
    "records.update(newval)\n",
    "print(records)"
   ]
  },
  {
   "cell_type": "code",
   "execution_count": 54,
   "id": "dc317661",
   "metadata": {},
   "outputs": [],
   "source": [
    "##delete from dictionary\n",
    "##popitem deletes last pair of key and value\n",
    "##pop deletes specific key and value"
   ]
  },
  {
   "cell_type": "code",
   "execution_count": 55,
   "id": "87336281",
   "metadata": {},
   "outputs": [
    {
     "name": "stdout",
     "output_type": "stream",
     "text": [
      "{'Name': 'Fatima', 'Age': 45, 'Gender': 'Female', 'Height': 1.66, 'Weight': 60.5}\n"
     ]
    }
   ],
   "source": [
    "records.popitem()\n",
    "print(records)"
   ]
  },
  {
   "cell_type": "code",
   "execution_count": 56,
   "id": "217fb7b4",
   "metadata": {},
   "outputs": [
    {
     "name": "stdout",
     "output_type": "stream",
     "text": [
      "{'Name': 'Fatima', 'Gender': 'Female', 'Height': 1.66, 'Weight': 60.5}\n"
     ]
    }
   ],
   "source": [
    "records.pop('Age')\n",
    "print(records)"
   ]
  },
  {
   "cell_type": "code",
   "execution_count": 57,
   "id": "553c545f",
   "metadata": {},
   "outputs": [
    {
     "name": "stdout",
     "output_type": "stream",
     "text": [
      "dict_keys(['Name', 'Gender', 'Height', 'Weight'])\n"
     ]
    }
   ],
   "source": [
    "print(records.keys())"
   ]
  },
  {
   "cell_type": "code",
   "execution_count": 58,
   "id": "04835bed",
   "metadata": {},
   "outputs": [
    {
     "name": "stdout",
     "output_type": "stream",
     "text": [
      "dict_values(['Fatima', 'Female', 1.66, 60.5])\n"
     ]
    }
   ],
   "source": [
    "print(records.values())"
   ]
  },
  {
   "cell_type": "code",
   "execution_count": 59,
   "id": "0fc0e0ab",
   "metadata": {},
   "outputs": [
    {
     "name": "stdout",
     "output_type": "stream",
     "text": [
      "dict_items([('Name', 'Fatima'), ('Gender', 'Female'), ('Height', 1.66), ('Weight', 60.5)])\n"
     ]
    }
   ],
   "source": [
    "print(records.items())"
   ]
  },
  {
   "cell_type": "code",
   "execution_count": 60,
   "id": "05bb15ed",
   "metadata": {},
   "outputs": [],
   "source": [
    "##dictionaries with list"
   ]
  },
  {
   "cell_type": "code",
   "execution_count": 65,
   "id": "950ed076",
   "metadata": {},
   "outputs": [
    {
     "name": "stdout",
     "output_type": "stream",
     "text": [
      "Bisi\n"
     ]
    }
   ],
   "source": [
    "records = {\n",
    "    'Name':['Ade','Bisi','James']   \n",
    "}\n",
    "print(records['Name'][1])"
   ]
  },
  {
   "cell_type": "code",
   "execution_count": null,
   "id": "b9a9ede9",
   "metadata": {},
   "outputs": [],
   "source": []
  }
 ],
 "metadata": {
  "kernelspec": {
   "display_name": "Python 3 (ipykernel)",
   "language": "python",
   "name": "python3"
  },
  "language_info": {
   "codemirror_mode": {
    "name": "ipython",
    "version": 3
   },
   "file_extension": ".py",
   "mimetype": "text/x-python",
   "name": "python",
   "nbconvert_exporter": "python",
   "pygments_lexer": "ipython3",
   "version": "3.11.5"
  }
 },
 "nbformat": 4,
 "nbformat_minor": 5
}
