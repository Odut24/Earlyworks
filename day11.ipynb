{
 "cells": [
  {
   "cell_type": "code",
   "execution_count": 23,
   "id": "cbd9d9c8",
   "metadata": {},
   "outputs": [
    {
     "name": "stdout",
     "output_type": "stream",
     "text": [
      "Item fruits added to stock with ID 1\n",
      "Item books added to stock with ID 2\n",
      "Item electronics added to stock with ID 3\n",
      "Item Good Mama 50kg Rice added to stock with ID 101\n",
      "Item Golden penny spaghetti added to stock with ID 102\n",
      "Item Good Mama 25kg Rice added to stock with ID 103\n",
      "Item Good Mama 10kg Rice added to stock with ID 104\n",
      "Item COKE added to stock with ID 105\n",
      "Item FANTA added to stock with ID 106\n",
      "Item PEPSI added to stock with ID 108\n"
     ]
    }
   ],
   "source": [
    "stock = {}\n",
    "\n",
    "def add_item(item_id,name,quantity):\n",
    "    if item_id not in stock:\n",
    "        stock[item_id] = {'name':name, 'quantity':quantity}\n",
    "        print(f'Item {name} added to stock with ID {item_id}')\n",
    "    else:\n",
    "        print(f'Item with ID {item_id} already exists, use update_item to modify.')\n",
    "def search_item(item_id):\n",
    "    if item_id in stock:\n",
    "        item = stock[item_id]\n",
    "        print(f\"item ID: {item_id}, Name: {item['name']},Quantity: {item['quantity']}\")\n",
    "    else:\n",
    "        print(f\"Item with ID {item_id} not found in stock.\")\n",
    "def delete_item(item_id):\n",
    "    if item_id in stock:\n",
    "        del(stock[item_id])\n",
    "        print(f\"item with ID {item_id} deleted from stock.\")\n",
    "    else:\n",
    "        print(f'item with ID {item_id} not found in stock.')\n",
    "def display_stock():\n",
    "    print('\\n CURRENT STOCK:')\n",
    "    for item_id,item in stock.items():\n",
    "        print(f\"Items ID:{item_id}, Name:{item['name']}, Quantity: {item['quantity']}\")\n",
    "        \n",
    "        \n",
    "def update_item(item_id):\n",
    "        \n",
    "add_item(item_id = 1, name = 'fruits', quantity = 29)\n",
    "add_item(item_id = 2, name = 'books', quantity = 28)\n",
    "add_item(item_id = 3, name = 'electronics', quantity = 30)\n",
    "add_item(101,'Good Mama 50kg Rice', 25)\n",
    "add_item(102,'Golden penny spaghetti', 50)\n",
    "add_item(103,'Good Mama 25kg Rice', 100)\n",
    "add_item(104,'Good Mama 10kg Rice', 250)\n",
    "add_item(105,'COKE', 250)\n",
    "add_item(106,'FANTA', 280)\n",
    "add_item(108, 'PEPSI', 300)"
   ]
  },
  {
   "cell_type": "code",
   "execution_count": 24,
   "id": "5d654e56",
   "metadata": {},
   "outputs": [
    {
     "name": "stdout",
     "output_type": "stream",
     "text": [
      "item ID: 108, Name: PEPSI,Quantity: 300\n"
     ]
    }
   ],
   "source": [
    "search_item(108)"
   ]
  },
  {
   "cell_type": "code",
   "execution_count": 25,
   "id": "0cefa4b0",
   "metadata": {},
   "outputs": [
    {
     "name": "stdout",
     "output_type": "stream",
     "text": [
      "\n",
      " CURRENT STOCK:\n",
      "Items ID:1, Name:fruits, Quantity: 29\n",
      "Items ID:2, Name:books, Quantity: 28\n",
      "Items ID:3, Name:electronics, Quantity: 30\n",
      "Items ID:101, Name:Good Mama 50kg Rice, Quantity: 25\n",
      "Items ID:102, Name:Golden penny spaghetti, Quantity: 50\n",
      "Items ID:103, Name:Good Mama 25kg Rice, Quantity: 100\n",
      "Items ID:104, Name:Good Mama 10kg Rice, Quantity: 250\n",
      "Items ID:105, Name:COKE, Quantity: 250\n",
      "Items ID:106, Name:FANTA, Quantity: 280\n",
      "Items ID:108, Name:PEPSI, Quantity: 300\n"
     ]
    }
   ],
   "source": [
    "display_stock()"
   ]
  },
  {
   "cell_type": "code",
   "execution_count": 26,
   "id": "d383870c",
   "metadata": {},
   "outputs": [
    {
     "name": "stdout",
     "output_type": "stream",
     "text": [
      "item ID: 106, Name: FANTA,Quantity: 280\n"
     ]
    }
   ],
   "source": [
    "search_item(106)"
   ]
  },
  {
   "cell_type": "code",
   "execution_count": 28,
   "id": "62a76444",
   "metadata": {},
   "outputs": [
    {
     "name": "stdout",
     "output_type": "stream",
     "text": [
      "item with ID 1 deleted from stock.\n",
      "item with ID 2 deleted from stock.\n",
      "item with ID 3 deleted from stock.\n"
     ]
    }
   ],
   "source": [
    "delete_item(1)\n",
    "delete_item(2)\n",
    "delete_item(3)"
   ]
  },
  {
   "cell_type": "code",
   "execution_count": 29,
   "id": "2be10184",
   "metadata": {},
   "outputs": [
    {
     "data": {
      "text/plain": [
       "{101: {'name': 'Good Mama 50kg Rice', 'quantity': 25},\n",
       " 102: {'name': 'Golden penny spaghetti', 'quantity': 50},\n",
       " 103: {'name': 'Good Mama 25kg Rice', 'quantity': 100},\n",
       " 104: {'name': 'Good Mama 10kg Rice', 'quantity': 250},\n",
       " 105: {'name': 'COKE', 'quantity': 250},\n",
       " 106: {'name': 'FANTA', 'quantity': 280},\n",
       " 108: {'name': 'PEPSI', 'quantity': 300}}"
      ]
     },
     "execution_count": 29,
     "metadata": {},
     "output_type": "execute_result"
    }
   ],
   "source": [
    "stock"
   ]
  },
  {
   "cell_type": "code",
   "execution_count": 30,
   "id": "29335bc9",
   "metadata": {},
   "outputs": [
    {
     "name": "stdout",
     "output_type": "stream",
     "text": [
      "\n",
      " CURRENT STOCK:\n",
      "Items ID:101, Name:Good Mama 50kg Rice, Quantity: 25\n",
      "Items ID:102, Name:Golden penny spaghetti, Quantity: 50\n",
      "Items ID:103, Name:Good Mama 25kg Rice, Quantity: 100\n",
      "Items ID:104, Name:Good Mama 10kg Rice, Quantity: 250\n",
      "Items ID:105, Name:COKE, Quantity: 250\n",
      "Items ID:106, Name:FANTA, Quantity: 280\n",
      "Items ID:108, Name:PEPSI, Quantity: 300\n"
     ]
    }
   ],
   "source": [
    "display_stock()"
   ]
  },
  {
   "cell_type": "code",
   "execution_count": 31,
   "id": "82fba861",
   "metadata": {},
   "outputs": [
    {
     "data": {
      "text/plain": [
       "130"
      ]
     },
     "execution_count": 31,
     "metadata": {},
     "output_type": "execute_result"
    }
   ],
   "source": [
    "##lambda function it is an anynomous function that cannot be reused:can only be used once\n",
    "(lambda x,y: x+y)(78,52)\n",
    "##u cannot use the print function while using this fuction "
   ]
  },
  {
   "cell_type": "code",
   "execution_count": 32,
   "id": "bfe4f1a7",
   "metadata": {},
   "outputs": [
    {
     "name": "stdout",
     "output_type": "stream",
     "text": [
      "ENTER YOUR NAME: OPEYEMI\n"
     ]
    },
    {
     "data": {
      "text/plain": [
       "'OPEYEMI is in upper case'"
      ]
     },
     "execution_count": 32,
     "metadata": {},
     "output_type": "execute_result"
    }
   ],
   "source": [
    "##lambda fuction to check if a user's name is in upper case\n",
    "##expressions come first whike using the function\n",
    "##it can only take the if/else condition, it wont take only if without else and elif function\n",
    "(lambda name: f'{name} is in upper case' if name == name.upper() else f'{name} not in upper case')(input('ENTER YOUR NAME: '))"
   ]
  },
  {
   "cell_type": "code",
   "execution_count": 33,
   "id": "b974aeb7",
   "metadata": {},
   "outputs": [
    {
     "name": "stdout",
     "output_type": "stream",
     "text": [
      "['PYTHON', 'C++', 'JAVA', 'PHP', 'GO', 'RUBY', 'PERL', 'RUST', 'JULIA', 'COBOL']\n"
     ]
    }
   ],
   "source": [
    "##map:map is used for modification of sequence like string, tuple and list where the lambda fuction carries the \n",
    "##operation and the final outcome is returned as a list or tuple\n",
    "language_name = ['python', 'c++','java', 'php','go','ruby', 'perl','rust','julia','cobol']\n",
    "finaloutcome = list(map(lambda x:x.upper(),language_name))\n",
    "print(finaloutcome)"
   ]
  },
  {
   "cell_type": "code",
   "execution_count": 34,
   "id": "9a73f083",
   "metadata": {},
   "outputs": [
    {
     "name": "stdout",
     "output_type": "stream",
     "text": [
      "('PYTHON', 'C++', 'JAVA', 'PHP', 'GO', 'RUBY', 'PERL', 'RUST', 'JULIA', 'COBOL')\n"
     ]
    }
   ],
   "source": [
    "language_name1 = ['python', 'c++','java', 'php','go','ruby', 'perl','rust','julia','cobol']\n",
    "finaloutcome1 = tuple(map(lambda x:x.upper(),language_name1))\n",
    "print(finaloutcome1)"
   ]
  },
  {
   "cell_type": "code",
   "execution_count": 36,
   "id": "b5140ee9",
   "metadata": {},
   "outputs": [
    {
     "name": "stdout",
     "output_type": "stream",
     "text": [
      "['RUBY', 'RUST']\n"
     ]
    }
   ],
   "source": [
    "##filter:filter is used for selection of sequence like string, tuple and list where the lambda fuction carries the \n",
    "##operation and the final outcome is returned as a list or tuple\n",
    "finaloutcome2 = list(filter(lambda x:x.startswith('R'),finaloutcome))\n",
    "print(finaloutcome2)"
   ]
  },
  {
   "cell_type": "code",
   "execution_count": 37,
   "id": "0314b106",
   "metadata": {},
   "outputs": [],
   "source": [
    "##exercise\n",
    "##from the sequence below, find the even and odd numbers seprateed into different list\n",
    "numbers = []\n",
    "import random\n",
    "for i in range(1,51):\n",
    "    num = random.randint(14,89)\n",
    "    numbers.append(num)"
   ]
  },
  {
   "cell_type": "code",
   "execution_count": 38,
   "id": "4f81eb9a",
   "metadata": {},
   "outputs": [
    {
     "name": "stdout",
     "output_type": "stream",
     "text": [
      "[55, 20, 65, 71, 47, 23, 63, 76, 55, 79, 23, 69, 52, 28, 36, 34, 15, 83, 61, 87, 37, 59, 17, 47, 85, 32, 82, 45, 36, 45, 74, 69, 19, 85, 40, 35, 71, 88, 77, 87, 55, 31, 14, 77, 22, 61, 32, 38, 89, 32]\n"
     ]
    }
   ],
   "source": [
    "print(numbers)"
   ]
  },
  {
   "cell_type": "code",
   "execution_count": 43,
   "id": "df17a6fa",
   "metadata": {},
   "outputs": [],
   "source": [
    "even = list(filter(lambda x:x%2==0,numbers))\n",
    "odd = list(filter(lambda x:x%2==1,numbers))"
   ]
  },
  {
   "cell_type": "code",
   "execution_count": 44,
   "id": "f779e75e",
   "metadata": {},
   "outputs": [
    {
     "name": "stdout",
     "output_type": "stream",
     "text": [
      "[20, 76, 52, 28, 36, 34, 32, 82, 36, 74, 40, 88, 14, 22, 32, 38, 32]\n"
     ]
    }
   ],
   "source": [
    "print(even)"
   ]
  },
  {
   "cell_type": "code",
   "execution_count": 45,
   "id": "e7a62722",
   "metadata": {},
   "outputs": [
    {
     "name": "stdout",
     "output_type": "stream",
     "text": [
      "[55, 65, 71, 47, 23, 63, 55, 79, 23, 69, 15, 83, 61, 87, 37, 59, 17, 47, 85, 45, 45, 69, 19, 85, 35, 71, 77, 87, 55, 31, 77, 61, 89]\n"
     ]
    }
   ],
   "source": [
    "print(odd)"
   ]
  }
 ],
 "metadata": {
  "kernelspec": {
   "display_name": "Python 3 (ipykernel)",
   "language": "python",
   "name": "python3"
  },
  "language_info": {
   "codemirror_mode": {
    "name": "ipython",
    "version": 3
   },
   "file_extension": ".py",
   "mimetype": "text/x-python",
   "name": "python",
   "nbconvert_exporter": "python",
   "pygments_lexer": "ipython3",
   "version": "3.11.5"
  }
 },
 "nbformat": 4,
 "nbformat_minor": 5
}
