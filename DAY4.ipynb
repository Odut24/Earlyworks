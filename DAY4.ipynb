{
 "cells": [
  {
   "cell_type": "code",
   "execution_count": 1,
   "id": "0bd9394d",
   "metadata": {},
   "outputs": [
    {
     "name": "stdout",
     "output_type": "stream",
     "text": [
      "14\n",
      "15\n",
      "-0.47312369706467594\n"
     ]
    }
   ],
   "source": [
    "##module\n",
    "##Activate module by importing them\n",
    "import math\n",
    "##__gives info\n",
    "##without __ is mathematical function\n",
    "number = 14.63\n",
    "print(math.floor(number))\n",
    "print(math.ceil(number))\n",
    "print(math.cos(number))\n",
    "##math fuction is only applicable to a single value"
   ]
  },
  {
   "cell_type": "code",
   "execution_count": 2,
   "id": "9c404199",
   "metadata": {},
   "outputs": [
    {
     "name": "stdout",
     "output_type": "stream",
     "text": [
      "['__doc__', '__loader__', '__name__', '__package__', '__spec__', 'acos', 'acosh', 'asin', 'asinh', 'atan', 'atan2', 'atanh', 'cbrt', 'ceil', 'comb', 'copysign', 'cos', 'cosh', 'degrees', 'dist', 'e', 'erf', 'erfc', 'exp', 'exp2', 'expm1', 'fabs', 'factorial', 'floor', 'fmod', 'frexp', 'fsum', 'gamma', 'gcd', 'hypot', 'inf', 'isclose', 'isfinite', 'isinf', 'isnan', 'isqrt', 'lcm', 'ldexp', 'lgamma', 'log', 'log10', 'log1p', 'log2', 'modf', 'nan', 'nextafter', 'perm', 'pi', 'pow', 'prod', 'radians', 'remainder', 'sin', 'sinh', 'sqrt', 'tan', 'tanh', 'tau', 'trunc', 'ulp']\n"
     ]
    }
   ],
   "source": [
    "print(dir(math))"
   ]
  },
  {
   "cell_type": "code",
   "execution_count": 3,
   "id": "6a4ccaa1",
   "metadata": {},
   "outputs": [
    {
     "name": "stdout",
     "output_type": "stream",
     "text": [
      "3.8249182997810554\n"
     ]
    }
   ],
   "source": [
    "print(math.sqrt(number))"
   ]
  },
  {
   "cell_type": "code",
   "execution_count": 4,
   "id": "adab07cf",
   "metadata": {},
   "outputs": [
    {
     "name": "stdout",
     "output_type": "stream",
     "text": [
      "['Counter', 'Decimal', 'Fraction', 'LinearRegression', 'NormalDist', 'StatisticsError', '_SQRT2', '__all__', '__annotations__', '__builtins__', '__cached__', '__doc__', '__file__', '__loader__', '__name__', '__package__', '__spec__', '_coerce', '_convert', '_decimal_sqrt_of_frac', '_exact_ratio', '_fail_neg', '_float_sqrt_of_frac', '_integer_sqrt_of_frac_rto', '_isfinite', '_mean_stdev', '_normal_dist_inv_cdf', '_sqrt_bit_width', '_ss', '_sum', 'bisect_left', 'bisect_right', 'correlation', 'covariance', 'defaultdict', 'erf', 'exp', 'fabs', 'fmean', 'fsum', 'geometric_mean', 'groupby', 'harmonic_mean', 'hypot', 'linear_regression', 'log', 'math', 'mean', 'median', 'median_grouped', 'median_high', 'median_low', 'mode', 'mul', 'multimode', 'namedtuple', 'numbers', 'pstdev', 'pvariance', 'quantiles', 'random', 'reduce', 'repeat', 'sqrt', 'stdev', 'sys', 'tau', 'variance']\n"
     ]
    }
   ],
   "source": [
    "import statistics as stat\n",
    "print(dir(stat))"
   ]
  },
  {
   "cell_type": "code",
   "execution_count": 6,
   "id": "70df4307",
   "metadata": {},
   "outputs": [
    {
     "name": "stdout",
     "output_type": "stream",
     "text": [
      "81.33333333333333\n"
     ]
    }
   ],
   "source": [
    "##most stat function are used on grouped data\n",
    "score = [87,98,56,92,70,85]\n",
    "print(stat.mean(score))"
   ]
  },
  {
   "cell_type": "code",
   "execution_count": 7,
   "id": "1626de0c",
   "metadata": {},
   "outputs": [
    {
     "name": "stdout",
     "output_type": "stream",
     "text": [
      "['BPF', 'LOG4', 'NV_MAGICCONST', 'RECIP_BPF', 'Random', 'SG_MAGICCONST', 'SystemRandom', 'TWOPI', '_ONE', '_Sequence', '_Set', '__all__', '__builtins__', '__cached__', '__doc__', '__file__', '__loader__', '__name__', '__package__', '__spec__', '_accumulate', '_acos', '_bisect', '_ceil', '_cos', '_e', '_exp', '_floor', '_index', '_inst', '_isfinite', '_log', '_os', '_pi', '_random', '_repeat', '_sha512', '_sin', '_sqrt', '_test', '_test_generator', '_urandom', '_warn', 'betavariate', 'choice', 'choices', 'expovariate', 'gammavariate', 'gauss', 'getrandbits', 'getstate', 'lognormvariate', 'normalvariate', 'paretovariate', 'randbytes', 'randint', 'random', 'randrange', 'sample', 'seed', 'setstate', 'shuffle', 'triangular', 'uniform', 'vonmisesvariate', 'weibullvariate']\n"
     ]
    }
   ],
   "source": [
    "##random module \n",
    "import random as rn\n",
    "print(dir(rn))"
   ]
  },
  {
   "cell_type": "code",
   "execution_count": 9,
   "id": "c1b4740b",
   "metadata": {},
   "outputs": [],
   "source": [
    "##string is also a module, ##re regular expression module ##datetime module"
   ]
  },
  {
   "cell_type": "code",
   "execution_count": 10,
   "id": "8503cf17",
   "metadata": {},
   "outputs": [],
   "source": [
    "##conditional formatting\n",
    "##writing a flow of logic that executes if a condition is found true"
   ]
  },
  {
   "cell_type": "code",
   "execution_count": 13,
   "id": "8a888ada",
   "metadata": {},
   "outputs": [
    {
     "name": "stdout",
     "output_type": "stream",
     "text": [
      "Please enter chicken weight in KG:2.5\n",
      "Your total price is 5000.0\n"
     ]
    }
   ],
   "source": [
    "chickenKG = float(input('Please enter chicken weight in KG:'))\n",
    "perkgprice = 2000\n",
    "if chickenKG >= 1:\n",
    "    print(f'Your total price is {chickenKG * perkgprice}')\n",
    "##for the if only condition, the expression is returned only if the preset condition is true\n",
    "##and no outcome if the preset condition is false"
   ]
  },
  {
   "cell_type": "code",
   "execution_count": 15,
   "id": "27a5c714",
   "metadata": {},
   "outputs": [
    {
     "name": "stdout",
     "output_type": "stream",
     "text": [
      "Please enter chicken weight in KG:0.9\n",
      "you are free to go, the KG is not a chargeable amount\n"
     ]
    }
   ],
   "source": [
    "##ifelse condition\n",
    "##gives the liberty to generate another result if the preset condition isnt met\n",
    "chickenKG = float(input('Please enter chicken weight in KG:'))\n",
    "perkgprice = 2000\n",
    "if chickenKG >= 1:\n",
    "    print(f'Your total price is {chickenKG * perkgprice}')\n",
    "else:\n",
    "    print('you are free to go, the KG is not a chargeable amount')\n",
    "##for the if else condition, the expression is returned only if the preset condition is true\n",
    "##and the expression under the else is returned if the condition is false"
   ]
  },
  {
   "cell_type": "code",
   "execution_count": 20,
   "id": "c13651f4",
   "metadata": {},
   "outputs": [
    {
     "name": "stdout",
     "output_type": "stream",
     "text": [
      "Shipment RegionSouth South\n",
      "Item Weight in KG:12.4\n",
      "Item ConditionFragile\n",
      "Item Quantity12\n",
      "Enter item Cost45.2\n",
      "\n",
      "Item Cost: 542.4000000000001\n",
      "Shipping Fee: 1488.0\n",
      "Total Cost plus shipment is 2030.4\n"
     ]
    }
   ],
   "source": [
    "region = input('Shipment Region')\n",
    "weight = float(input('Item Weight in KG:'))\n",
    "condition = input('Item Condition')\n",
    "quantity = float(input('Item Quantity'))\n",
    "costperitem = float(input('Enter item Cost'))\n",
    "if region == 'South South' and condition == \"Fragile\":\n",
    "    print(f'''\n",
    "Item Cost: {quantity * costperitem}\n",
    "Shipping Fee: {(weight * 10 * quantity)}\n",
    "Total Cost plus shipment is {(weight * 10 * quantity) + (quantity * costperitem)}''')\n",
    "elif region == 'South South' and condition == 'Non-Fragile':\n",
    "    print(f'Total Cost plus shipment is {(weight * 8 * quantity) + (quantity * costperitem)}')\n",
    "elif region == 'South East' and condition == \"Fragile\":\n",
    "    print(f'Total Cost plus shipment is {(weight * 9 * quantity) + (quantity * costperitem)}')\n",
    "elif region == 'South East' and condition == 'Non-Fragile':\n",
    "    print(f'Total Cost plus shipment is {(weight * 12 * quantity) + (quantity * costperitem)}')"
   ]
  },
  {
   "cell_type": "code",
   "execution_count": null,
   "id": "5f6ff1c1",
   "metadata": {},
   "outputs": [],
   "source": []
  }
 ],
 "metadata": {
  "kernelspec": {
   "display_name": "Python 3 (ipykernel)",
   "language": "python",
   "name": "python3"
  },
  "language_info": {
   "codemirror_mode": {
    "name": "ipython",
    "version": 3
   },
   "file_extension": ".py",
   "mimetype": "text/x-python",
   "name": "python",
   "nbconvert_exporter": "python",
   "pygments_lexer": "ipython3",
   "version": "3.11.5"
  }
 },
 "nbformat": 4,
 "nbformat_minor": 5
}
