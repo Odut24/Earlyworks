{
 "cells": [
  {
   "cell_type": "code",
   "execution_count": 1,
   "id": "3eff4518",
   "metadata": {},
   "outputs": [
    {
     "name": "stdout",
     "output_type": "stream",
     "text": [
      "WELCOME TO DAMI REAL ESTATE CALCULATOR\n",
      "enter the cost of the land: N15000000\n",
      "enter total area in per square meter:23\n",
      "enter cost per meter square for the building:13000\n",
      "enter the percenstage of total cost for materials:30\n",
      "enter the persentage of totsl cost for labour:25\n",
      "__________ESTIMATION RESULT____________\n",
      "YOUR TOTAL LAND COST IS: N30000000.00\n",
      "YOUR TOTAL CONSTRUCTION COST IS: N299000.00\n",
      "YOUR TOTAL MATERIAL COST AT 30.0: N89700.00\n",
      "YOUR TOTAL LABOUR COST AT25.0: N74750.00\n",
      "TOTAL ESTIMATE OF YOUR BUILDING IS: N30463450.00\n"
     ]
    }
   ],
   "source": [
    "def building_estimation_calculator():\n",
    "    print('WELCOME TO DAMI REAL ESTATE CALCULATOR')\n",
    "    try:\n",
    "        land_cost = 2 * float(input('enter the cost of the land: N'))\n",
    "        building_area = float(input('enter total area in per square meter:'))\n",
    "        cost_per_meter_square = float(input('enter cost per meter square for the building:'))\n",
    "        material_cost_per = float(input('enter the percenstage of total cost for materials:'))\n",
    "        labor_cost_per = float(input('enter the persentage of totsl cost for labour:'))\n",
    "    except ValueError:\n",
    "          print('enter valid numbers')\n",
    "    else:\n",
    "          construction_cost = cost_per_meter_square * building_area\n",
    "          material_cost = (material_cost_per/100)* construction_cost\n",
    "          labor_cost = (labor_cost_per/100)* construction_cost\n",
    "          total_cost = land_cost + construction_cost + material_cost + labor_cost\n",
    "    finally:\n",
    "          print('__________ESTIMATION RESULT____________')\n",
    "          print(f'YOUR TOTAL LAND COST IS: N{land_cost:.2f}')\n",
    "          print(f'YOUR TOTAL CONSTRUCTION COST IS: N{construction_cost:.2f}')\n",
    "          print(f'YOUR TOTAL MATERIAL COST AT {material_cost_per}: N{material_cost:.2f}')\n",
    "          print(f'YOUR TOTAL LABOUR COST AT{labor_cost_per}: N{labor_cost:.2f}')\n",
    "          print(f'TOTAL ESTIMATE OF YOUR BUILDING IS: N{total_cost:.2f}')\n",
    "building_estimation_calculator()\n",
    "\n",
    "##by doubling the landcost in the given code, the overall building estimate will be impacted \n",
    "## the overall estimated cost for the builing will be inflated"
   ]
  },
  {
   "cell_type": "code",
   "execution_count": null,
   "id": "50b37e95",
   "metadata": {},
   "outputs": [],
   "source": [
    "##recommendation\n",
    "##communicate to the user that the land cost has doubled\n",
    "##reflect the land cost change in your code\n",
    "##ensure other parameters of the code are still valid and running fine\n",
    "\n",
    "##Discuss real-world factors affecting costs\n",
    "##1. LOCATION: location of a project can greatly impact cost estimation, land in maitama cost more than kubwa\n",
    "##2. CONSTRUCTION MATERIALS: fluctuating prices in construction material, type and quality of materials will affect cost\n",
    "##3. DESIGN: A complex architectural design will cost more than a simple design, the more complex the design, the more likely the cost will increase\n",
    "##4. ECONOMY: the economic state of a country will affect cost, direct impact from inflation and interest rates affect materials.\n",
    "##5. REGULATIONS: Compliance with building codes and obtaining necessary permits can add to the overall cost. "
   ]
  }
 ],
 "metadata": {
  "kernelspec": {
   "display_name": "Python 3 (ipykernel)",
   "language": "python",
   "name": "python3"
  },
  "language_info": {
   "codemirror_mode": {
    "name": "ipython",
    "version": 3
   },
   "file_extension": ".py",
   "mimetype": "text/x-python",
   "name": "python",
   "nbconvert_exporter": "python",
   "pygments_lexer": "ipython3",
   "version": "3.11.5"
  }
 },
 "nbformat": 4,
 "nbformat_minor": 5
}
