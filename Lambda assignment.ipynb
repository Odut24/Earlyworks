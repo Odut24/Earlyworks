{
 "cells": [
  {
   "cell_type": "code",
   "execution_count": 12,
   "id": "48ba78ec",
   "metadata": {},
   "outputs": [
    {
     "name": "stdout",
     "output_type": "stream",
     "text": [
      "ENTER YOUR PASSWORD: OLUWATOBILOBA\n"
     ]
    },
    {
     "data": {
      "text/plain": [
       "'OLUWATOBILOBA IS OKAY'"
      ]
     },
     "execution_count": 12,
     "metadata": {},
     "output_type": "execute_result"
    }
   ],
   "source": [
    "##1. Write a lambda function to check if a user's password starts with Upper case and has a length of 8 above\n",
    "##from the generated numbers in class map it by finding it square root\n",
    "\n",
    "(lambda password:f'{password} IS OKAY' if password == password.upper() and len(password)>8 else f'{password} should be upper case and have 8 characters')(input('ENTER YOUR PASSWORD: '))"
   ]
  },
  {
   "cell_type": "code",
   "execution_count": 11,
   "id": "47300d10",
   "metadata": {},
   "outputs": [
    {
     "name": "stdout",
     "output_type": "stream",
     "text": [
      "ENTER YOUR PASSWORD: OPEYEMI\n"
     ]
    },
    {
     "data": {
      "text/plain": [
       "'OPEYEMI should be upper case and have 8 characters'"
      ]
     },
     "execution_count": 11,
     "metadata": {},
     "output_type": "execute_result"
    }
   ],
   "source": [
    "(lambda password: f'{password} IS OKAY' if password == password.upper() and len(password) > 8 else f'{password} should be upper case and have 8 characters')(input('ENTER YOUR PASSWORD: '))"
   ]
  },
  {
   "cell_type": "code",
   "execution_count": 22,
   "id": "2da59f9c",
   "metadata": {},
   "outputs": [
    {
     "name": "stdout",
     "output_type": "stream",
     "text": [
      "[7.416198487095663, 4.47213595499958, 8.06225774829855, 8.426149773176359, 6.855654600401044, 4.795831523312719, 7.937253933193772, 8.717797887081348, 7.416198487095663, 8.888194417315589, 4.795831523312719, 8.306623862918075, 7.211102550927978, 5.291502622129181, 6.0, 5.830951894845301, 3.872983346207417, 9.1104335791443, 7.810249675906654, 9.327379053088816, 6.082762530298219, 7.681145747868608, 4.123105625617661, 6.855654600401044, 9.219544457292887, 5.656854249492381, 9.055385138137417, 6.708203932499369, 6.0, 6.708203932499369, 8.602325267042627, 8.306623862918075, 4.358898943540674, 9.219544457292887, 6.324555320336759, 5.916079783099616, 8.426149773176359, 9.38083151964686, 8.774964387392123, 9.327379053088816, 7.416198487095663, 5.5677643628300215, 3.7416573867739413, 8.774964387392123, 4.69041575982343, 7.810249675906654, 5.656854249492381, 6.164414002968976, 9.433981132056603, 5.656854249492381]\n"
     ]
    }
   ],
   "source": [
    "numbers = [55, 20, 65, 71, 47, 23, 63, 76, 55, 79, 23, 69, 52, 28, 36, 34, 15, 83, 61, 87, 37, 59, 17, 47, 85, 32, 82, 45, 36, 45, 74, 69, 19, 85, 40, 35, 71, 88, 77, 87, 55, 31, 14, 77, 22, 61, 32, 38, 89, 32]\n",
    "import math\n",
    "square_root = list(map(lambda x:math.sqrt(x), numbers))\n",
    "print(square_root)"
   ]
  },
  {
   "cell_type": "code",
   "execution_count": null,
   "id": "caa1ed4b",
   "metadata": {},
   "outputs": [],
   "source": []
  }
 ],
 "metadata": {
  "kernelspec": {
   "display_name": "Python 3 (ipykernel)",
   "language": "python",
   "name": "python3"
  },
  "language_info": {
   "codemirror_mode": {
    "name": "ipython",
    "version": 3
   },
   "file_extension": ".py",
   "mimetype": "text/x-python",
   "name": "python",
   "nbconvert_exporter": "python",
   "pygments_lexer": "ipython3",
   "version": "3.11.5"
  }
 },
 "nbformat": 4,
 "nbformat_minor": 5
}
