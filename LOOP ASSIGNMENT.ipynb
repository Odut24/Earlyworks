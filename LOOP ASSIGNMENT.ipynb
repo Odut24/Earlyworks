{
 "cells": [
  {
   "cell_type": "code",
   "execution_count": 2,
   "id": "a02a5e9f",
   "metadata": {},
   "outputs": [
    {
     "name": "stdout",
     "output_type": "stream",
     "text": [
      "PLAYER ONE ROLLS:  [1, 4, 1, 5, 4, 4, 4, 4, 5, 5]\n",
      "PLAYER TWO ROLLS:  [4, 5, 3, 4, 2, 1, 4, 6, 5, 1]\n",
      "PLAYER ONE TOTAL IS : 37\n",
      "PLAYER TWO TOTAL IS : 35\n",
      "PLAYER ONE WINS\n"
     ]
    }
   ],
   "source": [
    "import random as rn\n",
    "\n",
    "player_1 = []\n",
    "player_2 = []\n",
    "for player_1_num in range(10):\n",
    "    player_1.append(rn.randint(1,6))\n",
    "    Player_1_total = sum(player_1)\n",
    "for player_2_num in range(10):\n",
    "    player_2.append(rn.randint(1,6))\n",
    "    Player_2_total = sum(player_2)\n",
    "if Player_1_total > Player_2_total:\n",
    "    print('PLAYER ONE ROLLS: ', player_1)\n",
    "    print('PLAYER TWO ROLLS: ', player_2)\n",
    "    print('PLAYER ONE TOTAL IS :', Player_1_total)\n",
    "    print('PLAYER TWO TOTAL IS :', Player_2_total)\n",
    "    print('PLAYER ONE WINS')\n",
    "elif Player_2_total > Player_1_total:\n",
    "    print('PLAYER ONE ROLLS: ', player_1)\n",
    "    print('PLAYER TWO ROLLS: ', player_2)\n",
    "    print('PLAYER ONE TOTAL IS :', Player_1_total)\n",
    "    print('PLAYER TWO TOTAL IS :', Player_2_total)\n",
    "    print('PLAYER TWO WINS')\n",
    "else:\n",
    "    print('DRAW')\n",
    "    "
   ]
  },
  {
   "cell_type": "code",
   "execution_count": null,
   "id": "1d684cfe",
   "metadata": {},
   "outputs": [],
   "source": []
  }
 ],
 "metadata": {
  "kernelspec": {
   "display_name": "Python 3 (ipykernel)",
   "language": "python",
   "name": "python3"
  },
  "language_info": {
   "codemirror_mode": {
    "name": "ipython",
    "version": 3
   },
   "file_extension": ".py",
   "mimetype": "text/x-python",
   "name": "python",
   "nbconvert_exporter": "python",
   "pygments_lexer": "ipython3",
   "version": "3.11.5"
  }
 },
 "nbformat": 4,
 "nbformat_minor": 5
}
