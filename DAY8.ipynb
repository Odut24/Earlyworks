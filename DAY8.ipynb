{
 "cells": [
  {
   "cell_type": "code",
   "execution_count": 2,
   "id": "f611a7f6",
   "metadata": {},
   "outputs": [
    {
     "data": {
      "text/plain": [
       "45"
      ]
     },
     "execution_count": 2,
     "metadata": {},
     "output_type": "execute_result"
    }
   ],
   "source": [
    "##OBJECT ORIENTED PROGRAMMING\n",
    "##class is the prototype\n",
    "##attribute and method are the 2main types\n",
    "##attribute and features and method is the behaviour of the class\n",
    "class person:\n",
    "    attr1= 'Ade'\n",
    "    attr2= 45\n",
    "ob=person()\n",
    "ob.attr1\n",
    "ob.attr2"
   ]
  },
  {
   "cell_type": "code",
   "execution_count": 15,
   "id": "1d8d8dd4",
   "metadata": {},
   "outputs": [],
   "source": [
    "##without the self keyword, u cannot access the values of the attribute in the class\n",
    "class person:\n",
    "    attr1 = 'Ade'\n",
    "    attr2 = 45\n",
    "    \n",
    "    def details(self):\n",
    "        print(f'''______PERSON DETAILS______\n",
    "NAME: {self.attr1}\n",
    "AGE:{self.attr2}\n",
    "    ''')\n",
    "ob=person()"
   ]
  },
  {
   "cell_type": "code",
   "execution_count": 16,
   "id": "94d8c724",
   "metadata": {},
   "outputs": [
    {
     "name": "stdout",
     "output_type": "stream",
     "text": [
      "______PERSON DETAILS______\n",
      "NAME: Ade\n",
      "AGE:45\n",
      "    \n"
     ]
    }
   ],
   "source": [
    "ob.details()"
   ]
  },
  {
   "cell_type": "code",
   "execution_count": 23,
   "id": "797e14ac",
   "metadata": {},
   "outputs": [
    {
     "name": "stdout",
     "output_type": "stream",
     "text": [
      "Enter Your Password:2256\n",
      "OPERATION LIST\n",
      "1.DEPOSIT\n",
      "2.TRANSFER\n",
      "3.AIRTIME\n",
      "4.DATA\n",
      "5.CHECK BALANCE\n",
      "6.QUIT\n",
      "\n",
      "ENTER OPERATION CHOICE: deposit\n",
      "Enter deposit amount:200000\n",
      "TRANSACTION SUCCESSFUL\n",
      "OPERATION LIST\n",
      "1.DEPOSIT\n",
      "2.TRANSFER\n",
      "3.AIRTIME\n",
      "4.DATA\n",
      "5.CHECK BALANCE\n",
      "6.QUIT\n",
      "\n",
      "ENTER OPERATION CHOICE: checkbalance\n",
      "YOUR AVAILABLE BALANCE IS 200000.0\n",
      "OPERATION LIST\n",
      "1.DEPOSIT\n",
      "2.TRANSFER\n",
      "3.AIRTIME\n",
      "4.DATA\n",
      "5.CHECK BALANCE\n",
      "6.QUIT\n",
      "\n",
      "ENTER OPERATION CHOICE: quit\n"
     ]
    }
   ],
   "source": [
    "class EARLYCODEMONIAPP:\n",
    "    def __init__(self):\n",
    "        self.balance = 0\n",
    "        \n",
    "    def deposit(self):\n",
    "        amount = float(input('Enter deposit amount:'))\n",
    "        self.balance += amount\n",
    "        print('TRANSACTION SUCCESSFUL')\n",
    "        \n",
    "    def transfer(self):\n",
    "        amount = float(input('Enter Transfer amount:'))\n",
    "        if amount > self.balance or amount == 0:\n",
    "            print('TRANSACTION FAILED, INSUFFICIENT FUNDS...')\n",
    "        else:\n",
    "            self.balance -= amount\n",
    "            print('Transaction successfull')\n",
    "            \n",
    "    def airtime(self):\n",
    "        amount = float(input('Enter airtime amount:'))\n",
    "        if amount > self.balance or amount == 0:\n",
    "            print('TRANSACTION FAILED, INSUFFICIENT FUNDS...')\n",
    "        else:\n",
    "            self.balance -= amount\n",
    "            print('Transaction successfull')\n",
    "            \n",
    "    def data(self):\n",
    "        amount = float(input('Enter data amount:'))\n",
    "        if amount > self.balance or amount == 0:\n",
    "            print('TRANSACTION FAILED, INSUFFICIENT FUNDS...')\n",
    "        else:\n",
    "            self.balance -= amount\n",
    "            print('Transaction successfull')\n",
    "            \n",
    "    def checkbalance(self):\n",
    "        print(f'YOUR AVAILABLE BALANCE IS {self.balance}')\n",
    "        \n",
    "app = EARLYCODEMONIAPP()\n",
    "operation = True\n",
    "passid = '2256'\n",
    "password = input('Enter Your Password:')\n",
    "if passid == password:\n",
    "    while operation:\n",
    "        print(f'''OPERATION LIST\n",
    "1.DEPOSIT\n",
    "2.TRANSFER\n",
    "3.AIRTIME\n",
    "4.DATA\n",
    "5.CHECK BALANCE\n",
    "6.QUIT\n",
    "''')\n",
    "        choice = input('ENTER OPERATION CHOICE: ')\n",
    "        if choice == 'deposit':\n",
    "            app.deposit()\n",
    "        elif choice == 'transfer':\n",
    "            app.transfer()\n",
    "        elif choice == 'airtime':\n",
    "            app.data()\n",
    "        elif choice == 'data':\n",
    "            app.airtime()\n",
    "        elif choice == 'checkbalance':\n",
    "            app.checkbalance()\n",
    "        elif choice == 'quit':\n",
    "            operation = False\n",
    "            print('log out of app')\n",
    "            break\n",
    "else:\n",
    "    print('INVALID PASSWORD')"
   ]
  },
  {
   "cell_type": "code",
   "execution_count": 26,
   "id": "b9c0748f",
   "metadata": {},
   "outputs": [],
   "source": [
    "##inheritance when a class inherits the method and attribute of another class parent and child class\n",
    "class phonesimulation:\n",
    "    def __init__(self, brand, model, color, year):\n",
    "        self.brand = brand\n",
    "        self.model = model\n",
    "        self.color = color\n",
    "        self.year = year\n",
    "    def audio(self):\n",
    "        option = input('enter audio option')\n",
    "        if option == 'play':\n",
    "            print('Audio Playing')\n",
    "        elif option == 'stop':\n",
    "            print('Audio Stop Playing')\n",
    "phone1 = phonesimulation('tecno','Camon 20 pro', 'Black', 2023)"
   ]
  },
  {
   "cell_type": "code",
   "execution_count": 27,
   "id": "024b4650",
   "metadata": {},
   "outputs": [
    {
     "name": "stdout",
     "output_type": "stream",
     "text": [
      "enter audio optionplay\n",
      "Audio Playing\n"
     ]
    }
   ],
   "source": [
    "phone1.audio()"
   ]
  },
  {
   "cell_type": "code",
   "execution_count": 28,
   "id": "4c2e407d",
   "metadata": {},
   "outputs": [],
   "source": [
    "class anothersimulation(phonesimulation):\n",
    "    def camera(self):\n",
    "        option = input('Enter Camera Option')\n",
    "        if option == 'selfie':\n",
    "            print('Front Rear Camera Activated')\n",
    "        elif option == 'normal':\n",
    "            print('Back Rear camera Activated')\n",
    "phone2 = anothersimulation('tecno','Camon 20 pro', 'Black', 2024)"
   ]
  },
  {
   "cell_type": "code",
   "execution_count": 29,
   "id": "81c8d187",
   "metadata": {},
   "outputs": [
    {
     "name": "stdout",
     "output_type": "stream",
     "text": [
      "Enter Camera Optionselfie\n",
      "Front Rear Camera Activated\n"
     ]
    }
   ],
   "source": [
    "phone2.camera()"
   ]
  },
  {
   "cell_type": "code",
   "execution_count": null,
   "id": "2a72ca75",
   "metadata": {},
   "outputs": [],
   "source": []
  }
 ],
 "metadata": {
  "kernelspec": {
   "display_name": "Python 3 (ipykernel)",
   "language": "python",
   "name": "python3"
  },
  "language_info": {
   "codemirror_mode": {
    "name": "ipython",
    "version": 3
   },
   "file_extension": ".py",
   "mimetype": "text/x-python",
   "name": "python",
   "nbconvert_exporter": "python",
   "pygments_lexer": "ipython3",
   "version": "3.11.5"
  }
 },
 "nbformat": 4,
 "nbformat_minor": 5
}
