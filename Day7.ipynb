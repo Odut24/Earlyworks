{
 "cells": [
  {
   "cell_type": "code",
   "execution_count": 15,
   "id": "45782d0d",
   "metadata": {},
   "outputs": [
    {
     "name": "stdout",
     "output_type": "stream",
     "text": [
      "INPUT YOUR STUDENT REGISTRATION ID: student001\n",
      "INPUT YOUR NAME AS PASSWORD: OPEYEMI\n",
      "________STUDENT FINAL REPORT_____\n",
      "name: OPEYEMI\n",
      "gender: MALE\n",
      "pythonassignment: 100\n",
      "pythonexams: 100\n",
      "datascienceassignment: 90\n",
      "datascienceexam: 90\n",
      "OVERALL SCORE: 95.0\n"
     ]
    }
   ],
   "source": [
    "##you have just been employed as a programmer at earlycode academy the first batch of python with \n",
    "\n",
    "def pythonclass():\n",
    "    pythonclassdict = {\n",
    "        'student001': {'name':'OPEYEMI','gender':'MALE','pythonassignment':100,'pythonexams':100,'datascienceassignment':90,'datascienceexam':90},\n",
    "        'student002': {'name':'BOLUWATIFE','gender':'FEMALE','pythonassignment':100,'pythonexams':80,'datascienceassignment':79,'datascienceexam':77},\n",
    "        'student003': {'name':'CLEVERSON','gender':'MALE','pythonassignment':100,'pythonexams':88,'datascienceassignment':80,'datascienceexam':66},\n",
    "        'student004': {'name':'AYOMIDE','gender':'FEMALE','pythonassignment':87,'pythonexams':89,'datascienceassignment':99,'datascienceexam':80},\n",
    "        'student005': {'name':'SADE','gender':'FEMALE','pythonassignment':70,'pythonexams':60,'datascienceassignment':60,'datascienceexam':99},\n",
    "        'student006': {'name':'SOLA','gender':'MALE','pythonassignment':80,'pythonexams':60,'datascienceassignment':88,'datascienceexam':70},\n",
    "        'student007': {'name':'NELSON','gender':'MALE','pythonassignment':88,'pythonexams':70,'datascienceassignment':8,'datascienceexam':0}\n",
    "    \n",
    "}\n",
    "    Registrationid = (input('INPUT YOUR STUDENT REGISTRATION ID: '))\n",
    "    password = input('INPUT YOUR NAME AS PASSWORD: ')\n",
    "    for student in pythonclassdict: \n",
    "            if Registrationid == student and password == pythonclassdict[student]['name']:\n",
    "                print('________STUDENT FINAL REPORT_____')\n",
    "                print('name:', pythonclassdict[student]['name'])\n",
    "                print('gender:', pythonclassdict[student]['gender'])\n",
    "                print('pythonassignment:', pythonclassdict[student]['pythonassignment'])\n",
    "                print('pythonexams:', pythonclassdict[student]['pythonexams'])\n",
    "                print('datascienceassignment:', pythonclassdict[student]['datascienceassignment'])\n",
    "                print('datascienceexam:', pythonclassdict[student]['datascienceexam'])\n",
    "                average_score = (pythonclassdict[student]['pythonassignment']+pythonclassdict[student]['pythonexams']+pythonclassdict[student]['datascienceassignment']+pythonclassdict[student]['datascienceexam'])/4\n",
    "                print('OVERALL SCORE:',average_score)                              \n",
    "                break\n",
    "            else:\n",
    "                print('WRONG STUDENT ID or PASSWORD')\n",
    "pythonclass()"
   ]
  },
  {
   "cell_type": "code",
   "execution_count": 16,
   "id": "f2f0ad92",
   "metadata": {},
   "outputs": [
    {
     "name": "stdout",
     "output_type": "stream",
     "text": [
      "23.25\n"
     ]
    }
   ],
   "source": [
    "##vfunction of non key word argument\n",
    "def average(*numbers):\n",
    "    avg = sum(numbers)/len(numbers)\n",
    "    print(avg)\n",
    "average(12,24,24,13,4,53,35,3,23,23,43,22)\n"
   ]
  },
  {
   "cell_type": "raw",
   "id": "caf72ea4",
   "metadata": {},
   "source": []
  },
  {
   "cell_type": "code",
   "execution_count": 18,
   "id": "c7fb863d",
   "metadata": {},
   "outputs": [
    {
     "name": "stdout",
     "output_type": "stream",
     "text": [
      "['__builtins__', '__cached__', '__doc__', '__file__', '__loader__', '__name__', '__package__', '__spec__', 'average']\n"
     ]
    }
   ],
   "source": [
    "import my_module\n",
    "print(dir(my_module))"
   ]
  },
  {
   "cell_type": "code",
   "execution_count": 19,
   "id": "bf3628db",
   "metadata": {},
   "outputs": [
    {
     "name": "stdout",
     "output_type": "stream",
     "text": [
      "37.166666666666664\n"
     ]
    }
   ],
   "source": [
    "my_module.average(23,34,45,23,54,44)"
   ]
  },
  {
   "cell_type": "code",
   "execution_count": 21,
   "id": "f5a44d06",
   "metadata": {},
   "outputs": [
    {
     "name": "stdout",
     "output_type": "stream",
     "text": [
      "name : FIYIN\n"
     ]
    }
   ],
   "source": [
    "##fuction with a variable lenght of key word arguments\n",
    "def records(**details):\n",
    "    for key,value in details.items():\n",
    "        print(key,':', value)\n",
    "records(name = 'FIYIN')"
   ]
  },
  {
   "cell_type": "code",
   "execution_count": null,
   "id": "3d5cd3f0",
   "metadata": {},
   "outputs": [],
   "source": [
    "##CLASS\n",
    "##OBJECT\n",
    "##ATTRIBUTE\n",
    "##METHOD\n",
    "##__init__\n",
    "##self"
   ]
  }
 ],
 "metadata": {
  "kernelspec": {
   "display_name": "Python 3 (ipykernel)",
   "language": "python",
   "name": "python3"
  },
  "language_info": {
   "codemirror_mode": {
    "name": "ipython",
    "version": 3
   },
   "file_extension": ".py",
   "mimetype": "text/x-python",
   "name": "python",
   "nbconvert_exporter": "python",
   "pygments_lexer": "ipython3",
   "version": "3.11.5"
  }
 },
 "nbformat": 4,
 "nbformat_minor": 5
}
